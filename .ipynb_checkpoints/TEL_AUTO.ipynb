{
 "cells": [
  {
   "cell_type": "code",
   "execution_count": 1,
   "id": "ab877cf6-07ba-411a-a94a-fbd44641fa2c",
   "metadata": {
    "tags": []
   },
   "outputs": [
    {
     "ename": "SyntaxError",
     "evalue": "invalid non-printable character U+00A0 (2387765747.py, line 37)",
     "output_type": "error",
     "traceback": [
      "\u001b[0;36m  Cell \u001b[0;32mIn[1], line 37\u001b[0;36m\u001b[0m\n\u001b[0;31m    track_saturn()\u001b[0m\n\u001b[0m    ^\u001b[0m\n\u001b[0;31mSyntaxError\u001b[0m\u001b[0;31m:\u001b[0m invalid non-printable character U+00A0\n"
     ]
    }
   ],
   "source": [
    "import time\n",
    "from astropy.coordinates import SkyCoord, AltAz, EarthLocation\n",
    "from astropy.time import Time\n",
    "import astropy.units as u\n",
    "\n",
    "# Function to move the telescope to the specified Alt and Az\n",
    "def move_telescope(alt, az):\n",
    "    print(f\"Moving telescope to Alt: {alt}, Az: {az}\")\n",
    "\n",
    "# Function to track Saturn\n",
    "def track_saturn():\n",
    "    while True:\n",
    "        # Get current time\n",
    "        current_time = Time.now()\n",
    "\n",
    "        # Specify Saturn's coordinates manually (RA and Dec in degrees)\n",
    "        saturn_coords = SkyCoord(ra=83.6331*u.deg, dec=22.0145*u.deg, frame='icrs')  # RA and Dec for Saturn\n",
    "\n",
    "        # Specify your location (longitude and latitude in degrees)\n",
    "        longitude = 78.12170*u.deg\n",
    "        latitude = 17.582222*u.deg\n",
    "        height = 0*u.m  # Assuming sea level\n",
    "\n",
    "        # Create EarthLocation object for your location\n",
    "        your_location = EarthLocation.from_geodetic(longitude, latitude, height)\n",
    "\n",
    "        # Calculate AltAz coordinates for current time and your location\n",
    "        saturn_altaz = saturn_coords.transform_to(AltAz(obstime=current_time, location=your_location))\n",
    "\n",
    "        # Move telescope to track Saturn's position\n",
    "        move_telescope(saturn_altaz.alt.deg, saturn_altaz.az.deg)\n",
    "\n",
    "        # Wait for some time before checking again\n",
    "        time.sleep(10)  # Check every 10 seconds\n",
    "\n",
    "if _name_ == \"_main_\":\n",
    "    track_saturn()"
   ]
  },
  {
   "cell_type": "code",
   "execution_count": null,
   "id": "d89bb4da-3d40-44ab-8677-83339ef0cbaa",
   "metadata": {},
   "outputs": [],
   "source": [
    "import time\n",
    "from astropy.coordinates import get_moon, AltAz, EarthLocation\n",
    "from astropy.time import Time\n",
    "import astropy.units as u\n",
    "\n",
    "# Function to move the telescope to the specified Alt and Az\n",
    "def move_telescope(alt, az):\n",
    "    print(f\"Moving telescope to Alt: {alt}, Az: {az}\")\n",
    "\n",
    "# Function to track the Moon\n",
    "def track_moon():\n",
    "    while True:\n",
    "        # Get current time\n",
    "        current_time = Time.now()\n",
    "\n",
    "        # Get Moon's coordinates\n",
    "        moon_coords = get_moon(current_time)\n",
    "\n",
    "        # Specify your location (longitude and latitude in degrees)\n",
    "        longitude = 78.12170*u.deg\n",
    "        latitude = 17.582222*u.deg\n",
    "        height = 0*u.m  # Assuming sea level\n",
    "\n",
    "        # Create EarthLocation object for your location\n",
    "        your_location = EarthLocation.from_geodetic(longitude, latitude, height)\n",
    "\n",
    "        # Calculate AltAz coordinates for current time and your location\n",
    "        moon_altaz = moon_coords.transform_to(AltAz(obstime=current_time, location=your_location))\n",
    "\n",
    "        # Move telescope to track the Moon's position\n",
    "        move_telescope(moon_altaz.alt.deg, moon_altaz.az.deg)\n",
    "\n",
    "        # Wait for some time before checking again\n",
    "        time.sleep(10)  # Check every 10 seconds\n",
    "\n",
    "if _name_ == \"_main_\":\n",
    "    track_moon()"
   ]
  },
  {
   "cell_type": "code",
   "execution_count": 5,
   "id": "d79aa2f3-0a52-47f8-88fa-76e40dafd05d",
   "metadata": {
    "tags": []
   },
   "outputs": [
    {
     "name": "stdout",
     "output_type": "stream",
     "text": [
      "Roll: 80.0\n",
      "Pitch: 15.000000000000002\n",
      "Yaw: 0.0\n"
     ]
    }
   ],
   "source": [
    "import numpy as np\n",
    "\n",
    "def alt_az_to_euler(altitude, azimuth):\n",
    "    # Convert degrees to radians\n",
    "    alt_rad = np.deg2rad(altitude)\n",
    "    az_rad = np.deg2rad(azimuth)\n",
    "    \n",
    "    # ZYX Euler angle sequence\n",
    "    roll = 0  # Since we don't have a roll angle in Alt-Az coordinates\n",
    "    pitch = alt_rad\n",
    "    yaw = az_rad\n",
    "    \n",
    "    # Convert Euler angles to rotation matrix\n",
    "    R_x = np.array([[1, 0, 0],\n",
    "                    [0, np.cos(roll), -np.sin(roll)],\n",
    "                    [0, np.sin(roll), np.cos(roll)]])\n",
    "    \n",
    "    R_y = np.array([[np.cos(pitch), 0, np.sin(pitch)],\n",
    "                    [0, 1, 0],\n",
    "                    [-np.sin(pitch), 0, np.cos(pitch)]])\n",
    "    \n",
    "    R_z = np.array([[np.cos(yaw), -np.sin(yaw), 0],\n",
    "                    [np.sin(yaw), np.cos(yaw), 0],\n",
    "                    [0, 0, 1]])\n",
    "    \n",
    "    # Combined rotation matrix\n",
    "    R = np.dot(R_z, np.dot(R_y, R_x))\n",
    "    \n",
    "    # Convert rotation matrix to Euler angles\n",
    "    # yaw = atan2(R[1,0], R[0,0])\n",
    "    # pitch = atan2(-R[2,0], sqrt(R[2,1]^2 + R[2,2]^2))\n",
    "    # roll = atan2(R[2,1], R[2,2])\n",
    "    pitch = np.arctan2(-R[2, 0], np.sqrt(R[0, 0] ** 2 + R[1, 0] ** 2))\n",
    "    roll = np.arctan2(R[1, 0], R[0, 0])\n",
    "    yaw = np.arctan2(R[2, 1], R[2, 2])\n",
    "    \n",
    "    # Convert radians to degrees\n",
    "    pitch_deg = np.rad2deg(pitch)\n",
    "    roll_deg = np.rad2deg(roll)\n",
    "    yaw_deg = np.rad2deg(yaw)\n",
    "    \n",
    "    return roll_deg, pitch_deg, yaw_deg\n",
    "\n",
    "# Example usage\n",
    "altitude = 15  # Altitude angle in degrees\n",
    "azimuth = 80  # Azimuth angle in degrees\n",
    "\n",
    "roll, pitch, yaw = alt_az_to_euler(altitude, azimuth)\n",
    "print(\"Roll:\", roll)\n",
    "print(\"Pitch:\", pitch)\n",
    "print(\"Yaw:\", yaw)\n"
   ]
  },
  {
   "cell_type": "code",
   "execution_count": 6,
   "id": "8cb3d4e2-5bd2-420b-a2a4-f3a575cec74b",
   "metadata": {
    "tags": []
   },
   "outputs": [
    {
     "name": "stdout",
     "output_type": "stream",
     "text": [
      "Degrees: 42.4625\n"
     ]
    }
   ],
   "source": [
    "def hms_to_deg(hours, minutes, seconds):\n",
    "    # Convert hours, minutes, and seconds to degrees\n",
    "    total_hours = hours + minutes / 60 + seconds / 3600\n",
    "    degrees = total_hours * 15\n",
    "    return degrees\n",
    "\n",
    "# Example usage\n",
    "hours = 2\n",
    "minutes = 49\n",
    "seconds = 51\n",
    "\n",
    "degrees = hms_to_deg(hours, minutes, seconds)\n",
    "print(\"Degrees:\", degrees)\n"
   ]
  },
  {
   "cell_type": "code",
   "execution_count": null,
   "id": "f95dda69-1c94-4a98-9906-5ca98393f063",
   "metadata": {},
   "outputs": [],
   "source": []
  },
  {
   "cell_type": "code",
   "execution_count": 2,
   "id": "21fa6c61-ec2b-4974-81c9-a359cfed9386",
   "metadata": {
    "tags": []
   },
   "outputs": [],
   "source": []
  },
  {
   "cell_type": "code",
   "execution_count": 7,
   "id": "cef16257-b4fa-47b9-ada1-363d8c9b384d",
   "metadata": {
    "tags": []
   },
   "outputs": [
    {
     "name": "stderr",
     "output_type": "stream",
     "text": [
      "[##                               ]   8% de421.bsp"
     ]
    },
    {
     "name": "stdout",
     "output_type": "stream",
     "text": [
      "Tracking stopped.\n"
     ]
    }
   ],
   "source": [
    "lat = 17.38\n",
    "long = 78.48\n",
    "from skyfield.api import Topos, load\n",
    "from datetime import datetime\n",
    "import pytz\n",
    "import time\n",
    "planet=None\n",
    "def get_planet_position(planet_name, observer_latitude, observer_longitude, t):\n",
    "    # Load the ephemeris\n",
    "    global planet\n",
    "    planets = load('de421.bsp')\n",
    "    earth, planet = planets['earth'], planets['planet_name']\n",
    "\n",
    "    # Set observer's location\n",
    "    observer = earth + Topos(latitude_degrees=observer_latitude, longitude_degrees=observer_longitude)\n",
    "\n",
    "    # Compute position\n",
    "    astrometric = observer.at(t).observe(_)\n",
    "    alt, az, _ = astrometric.apparent().altaz()\n",
    "\n",
    "    # Return altitude and azimuth\n",
    "    return alt.degrees, az.degrees\n",
    "\n",
    "# Example observer's location (replace with your actual coordinates)\n",
    "observer_latitude = lat  # Latitude of New Delhi\n",
    "observer_longitude = long  # Longitude of New Delhi\n",
    "\n",
    "# Example planet to track\n",
    "planet_name = \"Jupiter Barycenter\"\n",
    "\n",
    "# Get current time in IST\n",
    "ist = pytz.timezone('Asia/Kolkata')\n",
    "now = datetime.now(ist)\n",
    "\n",
    "# Create a Time object using Skyfield's timescale\n",
    "ts = load.timescale()\n",
    "\n",
    "try:\n",
    "    while True:\n",
    "        # Get current position of the planet\n",
    "        altitude, azimuth = get_planet_position(planet_name, observer_latitude, observer_longitude, ts.utc(now))\n",
    "\n",
    "        # Output the current position\n",
    "        print(f\"Altitude: {altitude} degrees, Azimuth: {azimuth} degrees\")\n",
    "\n",
    "        # Update every 1 second\n",
    "        time.sleep(1)\n",
    "\n",
    "except KeyboardInterrupt:\n",
    "    print(\"Tracking stopped.\")\n"
   ]
  },
  {
   "cell_type": "markdown",
   "id": "66ddc68b-dc8b-44d2-8631-33a9b6c9615e",
   "metadata": {},
   "source": []
  }
 ],
 "metadata": {
  "kernelspec": {
   "display_name": "Python 3",
   "language": "python",
   "name": "python3"
  },
  "language_info": {
   "codemirror_mode": {
    "name": "ipython",
    "version": 3
   },
   "file_extension": ".py",
   "mimetype": "text/x-python",
   "name": "python",
   "nbconvert_exporter": "python",
   "pygments_lexer": "ipython3",
   "version": "3.10.12"
  }
 },
 "nbformat": 4,
 "nbformat_minor": 5
}
