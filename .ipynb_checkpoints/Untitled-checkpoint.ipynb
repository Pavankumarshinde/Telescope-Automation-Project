{
 "cells": [
  {
   "cell_type": "code",
   "execution_count": null,
   "id": "e95d5cdf",
   "metadata": {},
   "outputs": [],
   "source": [
    "import matplotlib.pyplot as plt\n",
    "import numpy as np"
   ]
  },
  {
   "cell_type": "code",
   "execution_count": null,
   "id": "ff0641dd",
   "metadata": {},
   "outputs": [],
   "source": []
  },
  {
   "cell_type": "code",
   "execution_count": null,
   "id": "ae8059a2",
   "metadata": {},
   "outputs": [],
   "source": []
  },
  {
   "cell_type": "code",
   "execution_count": null,
   "id": "c25902f4",
   "metadata": {},
   "outputs": [],
   "source": [
    "import numpy as np"
   ]
  },
  {
   "cell_type": "code",
   "execution_count": null,
   "id": "f2e7d1a3",
   "metadata": {},
   "outputs": [],
   "source": []
  },
  {
   "cell_type": "code",
   "execution_count": null,
   "id": "15205670",
   "metadata": {},
   "outputs": [],
   "source": [
    "file=open(\"asu.txt\",'r')\n",
    "wholefile=file.readlines()\n",
    "wholefile[5]\n",
    "# type(wholefile[5])\n",
    "# wholefile[5]=np.array(wholefile[5])\n",
    "# wholefile[5]\n",
    "strreader=wholefile[5]\n",
    "print(strreader)\n",
    "# print(strreader[2])"
   ]
  },
  {
   "cell_type": "code",
   "execution_count": null,
   "id": "a5b29b35",
   "metadata": {},
   "outputs": [],
   "source": [
    "elements=strreader.split()\n",
    "elements\n",
    "# for element in elements:\n",
    "#     print(element[2])\n",
    "# elements[8elements[8]=int(elements[8])\n",
    "# elements[8]]\n",
    "# "
   ]
  },
  {
   "cell_type": "markdown",
   "id": "182f4145",
   "metadata": {},
   "source": [
    "### "
   ]
  },
  {
   "cell_type": "code",
   "execution_count": null,
   "id": "e6929a1e",
   "metadata": {},
   "outputs": [],
   "source": [
    "\n",
    "for i in range (5,10000):\n",
    "    \n",
    "    "
   ]
  },
  {
   "cell_type": "code",
   "execution_count": null,
   "id": "ea082699",
   "metadata": {},
   "outputs": [],
   "source": [
    "import numpy as np\n",
    "file=open(\"asu.txt\",'r')\n",
    "wholefile=file.readlines()\n",
    "V_mag=np.empty(9999)\n",
    "BV_mag=np.empty(9999)\n",
    "j=0\n",
    "for i in range(4,10004):\n",
    "    strreader=wholefile[i]\n",
    "    elements=strreader.split()\n",
    "    elements=np.array(elements)\n",
    "    \n",
    "    if elements.size==23 :\n",
    "        # print(elements[13])\n",
    "        V_mag[j]=elements[13]\n",
    "        # print(i,\"-\",elements[20],\"-\",int(elements[20]))\n",
    "        try:\n",
    "          BV_mag[j]=elements[20]\n",
    "          j+=1\n",
    "        except ValueError:\n",
    "          pass\n",
    "    # print(j)  \n",
    "        \n",
    "    # BV_mag=np.array(BV_mag)\n",
    "    \n",
    "            \n",
    "        # print(i,\"-\",elements.size)\n",
    "        \n",
    "# print(BV_mag)\n",
    "\n",
    "      \n",
    "    \n",
    "    # for i in range (0,23):\n",
    "    #     print(element[13])\n",
    "    \n",
    "for i in range(9999):\n",
    "  print(V_mag[i],\"--\",BV_mag[i])\n",
    "    \n",
    "    \n",
    "        \n",
    "    \n"
   ]
  },
  {
   "cell_type": "code",
   "execution_count": null,
   "id": "e1be73ef",
   "metadata": {},
   "outputs": [],
   "source": [
    "import numpy as np\n",
    "\n",
    "# Create a NumPy array of strings\n",
    "arr = np.array(['1', '2', '3', 'four', '5', 'six'])\n",
    "\n",
    "# Process the elements one by one and eliminate unconvertible values\n",
    "result = []\n",
    "for element in arr:\n",
    "    try:\n",
    "        result.append(int(element))\n",
    "    except ValueError:\n",
    "        pass\n",
    "\n",
    "result = np.array(result)\n",
    "\n",
    "print(\"Modified Array:\", result)\n",
    "\n",
    "\n"
   ]
  },
  {
   "cell_type": "code",
   "execution_count": null,
   "id": "9955e763",
   "metadata": {},
   "outputs": [],
   "source": [
    "import matplotlib.pyplot as plt\n",
    "import numpy as np\n",
    "\n",
    "plt.scatter(BV_mag, V_mag, marker='.', color='blue')\n",
    "\n",
    "plt.xlabel('BV_mag')\n",
    "plt.ylabel('V_mag')\n",
    "plt.title('Dotted Plot')\n",
    "\n",
    "plt.show()\n"
   ]
  },
  {
   "cell_type": "code",
   "execution_count": null,
   "id": "0017dd3d",
   "metadata": {},
   "outputs": [],
   "source": []
  },
  {
   "cell_type": "code",
   "execution_count": null,
   "id": "556a0437",
   "metadata": {},
   "outputs": [],
   "source": []
  }
 ],
 "metadata": {
  "kernelspec": {
   "display_name": "Python 3 (ipykernel)",
   "language": "python",
   "name": "python3"
  },
  "language_info": {
   "codemirror_mode": {
    "name": "ipython",
    "version": 3
   },
   "file_extension": ".py",
   "mimetype": "text/x-python",
   "name": "python",
   "nbconvert_exporter": "python",
   "pygments_lexer": "ipython3",
   "version": "3.10.6"
  }
 },
 "nbformat": 4,
 "nbformat_minor": 5
}
