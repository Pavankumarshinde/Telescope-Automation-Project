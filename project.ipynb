{
 "cells": [
  {
   "cell_type": "markdown",
   "metadata": {},
   "source": [
    "sun\n",
    "   \"mercury barycenter\",\n",
    "    \"venus barycenter\",\n",
    "    \"earth barycenter\",\n",
    "    \"mars barycenter\",\n",
    "    \"jupiter barycenter\",\n",
    "    \"saturn barycenter\",\n",
    "    \"uranus barycenter\",\n",
    "    \"neptune barycenter\"\n"
   ]
  },
  {
   "cell_type": "code",
   "execution_count": 1,
   "metadata": {},
   "outputs": [
    {
     "name": "stderr",
     "output_type": "stream",
     "text": [
      "[#################################] 100% de421.bsp\n"
     ]
    },
    {
     "name": "stdout",
     "output_type": "stream",
     "text": [
      "Altitude: 43.12083573757367 degrees, Azimuth: 163.66366944705618 degrees\n",
      "Altitude: 43.12083573757367 degrees, Azimuth: 163.66366944705618 degrees\n",
      "Altitude: 43.12083573757367 degrees, Azimuth: 163.66366944705618 degrees\n",
      "Altitude: 43.12083573757367 degrees, Azimuth: 163.66366944705618 degrees\n",
      "Tracking stopped.\n"
     ]
    }
   ],
   "source": [
    "lat = 17.38\n",
    "long = 78.48\n",
    "\n",
    "planet_name = \"moon\"\n",
    "\n",
    "from skyfield.api import Topos, load\n",
    "from datetime import datetime\n",
    "import pytz\n",
    "import time\n",
    "\n",
    "def get_planet_position(planet_name, observer_latitude, observer_longitude, t):\n",
    "    # Load the ephemeris\n",
    "    planets = load('de421.bsp')\n",
    "    earth, planet = planets['earth'], planets[planet_name]  # Fixed this line\n",
    "\n",
    "    # Set observer's location\n",
    "    observer = earth + Topos(latitude_degrees=observer_latitude, longitude_degrees=observer_longitude)\n",
    "\n",
    "    # Compute position\n",
    "    astrometric = observer.at(t).observe(planet)  # Fixed this line\n",
    "    alt, az, _ = astrometric.apparent().altaz()\n",
    "\n",
    "    # Return altitude and azimuth\n",
    "    return alt.degrees, az.degrees\n",
    "\n",
    "# Example observer's location (replace with your actual coordinates)\n",
    "observer_latitude = lat  # Latitude of New Delhi\n",
    "observer_longitude = long  # Longitude of New Delhi\n",
    "\n",
    "# Example planet to track\n",
    "\n",
    "\n",
    "# Get current time in IST\n",
    "ist = pytz.timezone('Asia/Kolkata')\n",
    "now = datetime.now(ist)\n",
    "\n",
    "# Create a Time object using Skyfield's timescale\n",
    "ts = load.timescale()\n",
    "\n",
    "try:\n",
    "    while True:\n",
    "        # Get current position of the planet\n",
    "        altitude, azimuth = get_planet_position(planet_name, observer_latitude, observer_longitude, ts.utc(now))\n",
    "\n",
    "        # Output the current position\n",
    "        print(f\"Altitude: {altitude} degrees, Azimuth: {azimuth} degrees\")\n",
    "\n",
    "        # Update every 1 second\n",
    "        time.sleep(1)\n",
    "\n",
    "except KeyboardInterrupt:\n",
    "    print(\"Tracking stopped.\")\n"
   ]
  },
  {
   "cell_type": "code",
   "execution_count": null,
   "metadata": {},
   "outputs": [],
   "source": []
  }
 ],
 "metadata": {
  "kernelspec": {
   "display_name": "Python 3",
   "language": "python",
   "name": "python3"
  },
  "language_info": {
   "codemirror_mode": {
    "name": "ipython",
    "version": 3
   },
   "file_extension": ".py",
   "mimetype": "text/x-python",
   "name": "python",
   "nbconvert_exporter": "python",
   "pygments_lexer": "ipython3",
   "version": "3.10.12"
  }
 },
 "nbformat": 4,
 "nbformat_minor": 2
}
