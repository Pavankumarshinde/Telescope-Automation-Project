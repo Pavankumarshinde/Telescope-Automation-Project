{
 "cells": [
  {
   "cell_type": "code",
   "execution_count": null,
   "metadata": {},
   "outputs": [],
   "source": []
  },
  {
   "cell_type": "code",
   "execution_count": 16,
   "metadata": {},
   "outputs": [],
   "source": [
    "import time\n",
    "from astropy.coordinates import SkyCoord\n"
   ]
  },
  {
   "cell_type": "code",
   "execution_count": 17,
   "metadata": {},
   "outputs": [],
   "source": [
    "from astropy import units as u\n",
    "from astropy.coordinates import EarthLocation, AltAz, get_body"
   ]
  },
  {
   "cell_type": "code",
   "execution_count": 3,
   "metadata": {},
   "outputs": [
    {
     "name": "stdout",
     "output_type": "stream",
     "text": [
      "<SkyCoord (ICRS): (ra, dec) in deg\n",
      "    (2.81491299, 15.3473037)>\n"
     ]
    }
   ],
   "source": [
    "jupiter_coords=SkyCoord.from_name(\"Jupiter\")\n",
    "print(jupiter_coords)\n",
    "import time\n",
    "from astropy.coordinates import SkyCoord, AltAz\n",
    "from astropy.time import Time\n",
    "current_time=Time.now()"
   ]
  },
  {
   "cell_type": "code",
   "execution_count": 23,
   "metadata": {},
   "outputs": [
    {
     "ename": "AttributeError",
     "evalue": "'NoneType' object has no attribute 'to_geodetic'",
     "output_type": "error",
     "traceback": [
      "\u001b[0;31m---------------------------------------------------------------------------\u001b[0m",
      "\u001b[0;31mAttributeError\u001b[0m                            Traceback (most recent call last)",
      "\u001b[1;32m/home/pavankumar/desktop/cephied/project.ipynb Cell 5\u001b[0m line \u001b[0;36m1\n\u001b[0;32m----> <a href='vscode-notebook-cell:/home/pavankumar/desktop/cephied/project.ipynb#W4sZmlsZQ%3D%3D?line=0'>1</a>\u001b[0m jupiter_altaz \u001b[39m=\u001b[39m jupiter_coords\u001b[39m.\u001b[39;49mtransform_to(AltAz(obstime\u001b[39m=\u001b[39;49mcurrent_time))\n",
      "File \u001b[0;32m~/.local/lib/python3.10/site-packages/astropy/coordinates/sky_coordinate.py:692\u001b[0m, in \u001b[0;36mSkyCoord.transform_to\u001b[0;34m(self, frame, merge_attributes)\u001b[0m\n\u001b[1;32m    688\u001b[0m generic_frame \u001b[39m=\u001b[39m GenericFrame(frame_kwargs)\n\u001b[1;32m    690\u001b[0m \u001b[39m# Do the transformation, returning a coordinate frame of the desired\u001b[39;00m\n\u001b[1;32m    691\u001b[0m \u001b[39m# final type (not generic).\u001b[39;00m\n\u001b[0;32m--> 692\u001b[0m new_coord \u001b[39m=\u001b[39m trans(\u001b[39mself\u001b[39;49m\u001b[39m.\u001b[39;49mframe, generic_frame)\n\u001b[1;32m    694\u001b[0m \u001b[39m# Finally make the new SkyCoord object from the `new_coord` and\u001b[39;00m\n\u001b[1;32m    695\u001b[0m \u001b[39m# remaining frame_kwargs that are not frame_attributes in `new_coord`.\u001b[39;00m\n\u001b[1;32m    696\u001b[0m \u001b[39mfor\u001b[39;00m attr \u001b[39min\u001b[39;00m \u001b[39mset\u001b[39m(new_coord\u001b[39m.\u001b[39mframe_attributes) \u001b[39m&\u001b[39m \u001b[39mset\u001b[39m(frame_kwargs\u001b[39m.\u001b[39mkeys()):\n",
      "File \u001b[0;32m~/.local/lib/python3.10/site-packages/astropy/coordinates/transformations.py:1537\u001b[0m, in \u001b[0;36mCompositeTransform.__call__\u001b[0;34m(self, fromcoord, toframe)\u001b[0m\n\u001b[1;32m   1534\u001b[0m             frattrs[inter_frame_attr_nm] \u001b[39m=\u001b[39m attr\n\u001b[1;32m   1536\u001b[0m     curr_toframe \u001b[39m=\u001b[39m t\u001b[39m.\u001b[39mtosys(\u001b[39m*\u001b[39m\u001b[39m*\u001b[39mfrattrs)\n\u001b[0;32m-> 1537\u001b[0m     curr_coord \u001b[39m=\u001b[39m t(curr_coord, curr_toframe)\n\u001b[1;32m   1539\u001b[0m \u001b[39m# this is safe even in the case where self.transforms is empty, because\u001b[39;00m\n\u001b[1;32m   1540\u001b[0m \u001b[39m# coordinate objects are immutable, so copying is not needed\u001b[39;00m\n\u001b[1;32m   1541\u001b[0m \u001b[39mreturn\u001b[39;00m curr_coord\n",
      "File \u001b[0;32m~/.local/lib/python3.10/site-packages/astropy/coordinates/transformations.py:1027\u001b[0m, in \u001b[0;36mFunctionTransformWithFiniteDifference.__call__\u001b[0;34m(self, fromcoord, toframe)\u001b[0m\n\u001b[1;32m   1025\u001b[0m supcall \u001b[39m=\u001b[39m \u001b[39mself\u001b[39m\u001b[39m.\u001b[39mfunc\n\u001b[1;32m   1026\u001b[0m \u001b[39mif\u001b[39;00m \u001b[39mnot\u001b[39;00m fromcoord\u001b[39m.\u001b[39mdata\u001b[39m.\u001b[39mdifferentials:\n\u001b[0;32m-> 1027\u001b[0m     \u001b[39mreturn\u001b[39;00m supcall(fromcoord, toframe)\n\u001b[1;32m   1028\u001b[0m \u001b[39m# this is the finite difference case\u001b[39;00m\n\u001b[1;32m   1030\u001b[0m \u001b[39mif\u001b[39;00m callable(\u001b[39mself\u001b[39m\u001b[39m.\u001b[39mfinite_difference_dt):\n",
      "File \u001b[0;32m~/.local/lib/python3.10/site-packages/astropy/coordinates/builtin_frames/icrs_observed_transforms.py:33\u001b[0m, in \u001b[0;36micrs_to_observed\u001b[0;34m(icrs_coo, observed_frame)\u001b[0m\n\u001b[1;32m     28\u001b[0m is_unitspherical \u001b[39m=\u001b[39m (\n\u001b[1;32m     29\u001b[0m     \u001b[39misinstance\u001b[39m(icrs_coo\u001b[39m.\u001b[39mdata, UnitSphericalRepresentation)\n\u001b[1;32m     30\u001b[0m     \u001b[39mor\u001b[39;00m icrs_coo\u001b[39m.\u001b[39mcartesian\u001b[39m.\u001b[39mx\u001b[39m.\u001b[39munit \u001b[39m==\u001b[39m u\u001b[39m.\u001b[39mone\n\u001b[1;32m     31\u001b[0m )\n\u001b[1;32m     32\u001b[0m \u001b[39m# first set up the astrometry context for ICRS<->observed\u001b[39;00m\n\u001b[0;32m---> 33\u001b[0m astrom \u001b[39m=\u001b[39m erfa_astrom\u001b[39m.\u001b[39;49mget()\u001b[39m.\u001b[39;49mapco(observed_frame)\n\u001b[1;32m     35\u001b[0m \u001b[39m# correct for parallax to find BCRS direction from observer (as in erfa.pmpx)\u001b[39;00m\n\u001b[1;32m     36\u001b[0m \u001b[39mif\u001b[39;00m is_unitspherical:\n",
      "File \u001b[0;32m~/.local/lib/python3.10/site-packages/astropy/coordinates/erfa_astrom.py:49\u001b[0m, in \u001b[0;36mErfaAstrom.apco\u001b[0;34m(frame_or_coord)\u001b[0m\n\u001b[1;32m     37\u001b[0m \u001b[39m@staticmethod\u001b[39m\n\u001b[1;32m     38\u001b[0m \u001b[39mdef\u001b[39;00m \u001b[39mapco\u001b[39m(frame_or_coord):\n\u001b[1;32m     39\u001b[0m \u001b[39m    \u001b[39m\u001b[39m\"\"\"\u001b[39;00m\n\u001b[1;32m     40\u001b[0m \u001b[39m    Wrapper for ``erfa.apco``, used in conversions AltAz <-> ICRS and CIRS <-> ICRS.\u001b[39;00m\n\u001b[1;32m     41\u001b[0m \n\u001b[0;32m   (...)\u001b[0m\n\u001b[1;32m     47\u001b[0m \u001b[39m        For this function, an AltAz or CIRS frame is expected.\u001b[39;00m\n\u001b[1;32m     48\u001b[0m \u001b[39m    \"\"\"\u001b[39;00m\n\u001b[0;32m---> 49\u001b[0m     lon, lat, height \u001b[39m=\u001b[39m frame_or_coord\u001b[39m.\u001b[39;49mlocation\u001b[39m.\u001b[39;49mto_geodetic(\u001b[39m\"\u001b[39m\u001b[39mWGS84\u001b[39m\u001b[39m\"\u001b[39m)\n\u001b[1;32m     50\u001b[0m     obstime \u001b[39m=\u001b[39m frame_or_coord\u001b[39m.\u001b[39mobstime\n\u001b[1;32m     52\u001b[0m     jd1_tt, jd2_tt \u001b[39m=\u001b[39m get_jd12(obstime, \u001b[39m\"\u001b[39m\u001b[39mtt\u001b[39m\u001b[39m\"\u001b[39m)\n",
      "\u001b[0;31mAttributeError\u001b[0m: 'NoneType' object has no attribute 'to_geodetic'"
     ]
    }
   ],
   "source": [
    "jupiter_altaz = jupiter_coords.transform_to(AltAz(obstime=current_time))\n"
   ]
  },
  {
   "cell_type": "code",
   "execution_count": null,
   "metadata": {},
   "outputs": [],
   "source": []
  },
  {
   "cell_type": "code",
   "execution_count": null,
   "metadata": {},
   "outputs": [
    {
     "ename": "AttributeError",
     "evalue": "'NoneType' object has no attribute 'to_geodetic'",
     "output_type": "error",
     "traceback": [
      "\u001b[0;31m---------------------------------------------------------------------------\u001b[0m",
      "\u001b[0;31mAttributeError\u001b[0m                            Traceback (most recent call last)",
      "\u001b[1;32m/home/pavankumar/desktop/cephied/project.ipynb Cell 7\u001b[0m line \u001b[0;36m3\n\u001b[1;32m     <a href='vscode-notebook-cell:/home/pavankumar/desktop/cephied/project.ipynb#W6sZmlsZQ%3D%3D?line=27'>28</a>\u001b[0m         time\u001b[39m.\u001b[39msleep(\u001b[39m10\u001b[39m)  \u001b[39m# Check every 10 seconds\u001b[39;00m\n\u001b[1;32m     <a href='vscode-notebook-cell:/home/pavankumar/desktop/cephied/project.ipynb#W6sZmlsZQ%3D%3D?line=29'>30</a>\u001b[0m \u001b[39mif\u001b[39;00m \u001b[39m__name__\u001b[39m \u001b[39m==\u001b[39m \u001b[39m\"\u001b[39m\u001b[39m__main__\u001b[39m\u001b[39m\"\u001b[39m:\n\u001b[0;32m---> <a href='vscode-notebook-cell:/home/pavankumar/desktop/cephied/project.ipynb#W6sZmlsZQ%3D%3D?line=30'>31</a>\u001b[0m     track_jupiter()\n",
      "\u001b[1;32m/home/pavankumar/desktop/cephied/project.ipynb Cell 7\u001b[0m line \u001b[0;36m2\n\u001b[1;32m     <a href='vscode-notebook-cell:/home/pavankumar/desktop/cephied/project.ipynb#W6sZmlsZQ%3D%3D?line=17'>18</a>\u001b[0m jupiter_coords \u001b[39m=\u001b[39m SkyCoord\u001b[39m.\u001b[39mfrom_name(\u001b[39m\"\u001b[39m\u001b[39mJupiter\u001b[39m\u001b[39m\"\u001b[39m)\n\u001b[1;32m     <a href='vscode-notebook-cell:/home/pavankumar/desktop/cephied/project.ipynb#W6sZmlsZQ%3D%3D?line=19'>20</a>\u001b[0m \u001b[39m# Calculate AltAz coordinates for current time and location (default to Greenwich)\u001b[39;00m\n\u001b[0;32m---> <a href='vscode-notebook-cell:/home/pavankumar/desktop/cephied/project.ipynb#W6sZmlsZQ%3D%3D?line=20'>21</a>\u001b[0m jupiter_altaz \u001b[39m=\u001b[39m jupiter_coords\u001b[39m.\u001b[39;49mtransform_to(AltAz(obstime\u001b[39m=\u001b[39;49mcurrent_time))\n\u001b[1;32m     <a href='vscode-notebook-cell:/home/pavankumar/desktop/cephied/project.ipynb#W6sZmlsZQ%3D%3D?line=22'>23</a>\u001b[0m \u001b[39m# Move telescope to track Jupiter's position\u001b[39;00m\n\u001b[1;32m     <a href='vscode-notebook-cell:/home/pavankumar/desktop/cephied/project.ipynb#W6sZmlsZQ%3D%3D?line=23'>24</a>\u001b[0m move_telescope(jupiter_altaz\u001b[39m.\u001b[39malt\u001b[39m.\u001b[39mdeg, jupiter_altaz\u001b[39m.\u001b[39maz\u001b[39m.\u001b[39mdeg)\n",
      "File \u001b[0;32m~/.local/lib/python3.10/site-packages/astropy/coordinates/sky_coordinate.py:692\u001b[0m, in \u001b[0;36mSkyCoord.transform_to\u001b[0;34m(self, frame, merge_attributes)\u001b[0m\n\u001b[1;32m    688\u001b[0m generic_frame \u001b[39m=\u001b[39m GenericFrame(frame_kwargs)\n\u001b[1;32m    690\u001b[0m \u001b[39m# Do the transformation, returning a coordinate frame of the desired\u001b[39;00m\n\u001b[1;32m    691\u001b[0m \u001b[39m# final type (not generic).\u001b[39;00m\n\u001b[0;32m--> 692\u001b[0m new_coord \u001b[39m=\u001b[39m trans(\u001b[39mself\u001b[39;49m\u001b[39m.\u001b[39;49mframe, generic_frame)\n\u001b[1;32m    694\u001b[0m \u001b[39m# Finally make the new SkyCoord object from the `new_coord` and\u001b[39;00m\n\u001b[1;32m    695\u001b[0m \u001b[39m# remaining frame_kwargs that are not frame_attributes in `new_coord`.\u001b[39;00m\n\u001b[1;32m    696\u001b[0m \u001b[39mfor\u001b[39;00m attr \u001b[39min\u001b[39;00m \u001b[39mset\u001b[39m(new_coord\u001b[39m.\u001b[39mframe_attributes) \u001b[39m&\u001b[39m \u001b[39mset\u001b[39m(frame_kwargs\u001b[39m.\u001b[39mkeys()):\n",
      "File \u001b[0;32m~/.local/lib/python3.10/site-packages/astropy/coordinates/transformations.py:1537\u001b[0m, in \u001b[0;36mCompositeTransform.__call__\u001b[0;34m(self, fromcoord, toframe)\u001b[0m\n\u001b[1;32m   1534\u001b[0m             frattrs[inter_frame_attr_nm] \u001b[39m=\u001b[39m attr\n\u001b[1;32m   1536\u001b[0m     curr_toframe \u001b[39m=\u001b[39m t\u001b[39m.\u001b[39mtosys(\u001b[39m*\u001b[39m\u001b[39m*\u001b[39mfrattrs)\n\u001b[0;32m-> 1537\u001b[0m     curr_coord \u001b[39m=\u001b[39m t(curr_coord, curr_toframe)\n\u001b[1;32m   1539\u001b[0m \u001b[39m# this is safe even in the case where self.transforms is empty, because\u001b[39;00m\n\u001b[1;32m   1540\u001b[0m \u001b[39m# coordinate objects are immutable, so copying is not needed\u001b[39;00m\n\u001b[1;32m   1541\u001b[0m \u001b[39mreturn\u001b[39;00m curr_coord\n",
      "File \u001b[0;32m~/.local/lib/python3.10/site-packages/astropy/coordinates/transformations.py:1027\u001b[0m, in \u001b[0;36mFunctionTransformWithFiniteDifference.__call__\u001b[0;34m(self, fromcoord, toframe)\u001b[0m\n\u001b[1;32m   1025\u001b[0m supcall \u001b[39m=\u001b[39m \u001b[39mself\u001b[39m\u001b[39m.\u001b[39mfunc\n\u001b[1;32m   1026\u001b[0m \u001b[39mif\u001b[39;00m \u001b[39mnot\u001b[39;00m fromcoord\u001b[39m.\u001b[39mdata\u001b[39m.\u001b[39mdifferentials:\n\u001b[0;32m-> 1027\u001b[0m     \u001b[39mreturn\u001b[39;00m supcall(fromcoord, toframe)\n\u001b[1;32m   1028\u001b[0m \u001b[39m# this is the finite difference case\u001b[39;00m\n\u001b[1;32m   1030\u001b[0m \u001b[39mif\u001b[39;00m callable(\u001b[39mself\u001b[39m\u001b[39m.\u001b[39mfinite_difference_dt):\n",
      "File \u001b[0;32m~/.local/lib/python3.10/site-packages/astropy/coordinates/builtin_frames/icrs_observed_transforms.py:33\u001b[0m, in \u001b[0;36micrs_to_observed\u001b[0;34m(icrs_coo, observed_frame)\u001b[0m\n\u001b[1;32m     28\u001b[0m is_unitspherical \u001b[39m=\u001b[39m (\n\u001b[1;32m     29\u001b[0m     \u001b[39misinstance\u001b[39m(icrs_coo\u001b[39m.\u001b[39mdata, UnitSphericalRepresentation)\n\u001b[1;32m     30\u001b[0m     \u001b[39mor\u001b[39;00m icrs_coo\u001b[39m.\u001b[39mcartesian\u001b[39m.\u001b[39mx\u001b[39m.\u001b[39munit \u001b[39m==\u001b[39m u\u001b[39m.\u001b[39mone\n\u001b[1;32m     31\u001b[0m )\n\u001b[1;32m     32\u001b[0m \u001b[39m# first set up the astrometry context for ICRS<->observed\u001b[39;00m\n\u001b[0;32m---> 33\u001b[0m astrom \u001b[39m=\u001b[39m erfa_astrom\u001b[39m.\u001b[39;49mget()\u001b[39m.\u001b[39;49mapco(observed_frame)\n\u001b[1;32m     35\u001b[0m \u001b[39m# correct for parallax to find BCRS direction from observer (as in erfa.pmpx)\u001b[39;00m\n\u001b[1;32m     36\u001b[0m \u001b[39mif\u001b[39;00m is_unitspherical:\n",
      "File \u001b[0;32m~/.local/lib/python3.10/site-packages/astropy/coordinates/erfa_astrom.py:49\u001b[0m, in \u001b[0;36mErfaAstrom.apco\u001b[0;34m(frame_or_coord)\u001b[0m\n\u001b[1;32m     37\u001b[0m \u001b[39m@staticmethod\u001b[39m\n\u001b[1;32m     38\u001b[0m \u001b[39mdef\u001b[39;00m \u001b[39mapco\u001b[39m(frame_or_coord):\n\u001b[1;32m     39\u001b[0m \u001b[39m    \u001b[39m\u001b[39m\"\"\"\u001b[39;00m\n\u001b[1;32m     40\u001b[0m \u001b[39m    Wrapper for ``erfa.apco``, used in conversions AltAz <-> ICRS and CIRS <-> ICRS.\u001b[39;00m\n\u001b[1;32m     41\u001b[0m \n\u001b[0;32m   (...)\u001b[0m\n\u001b[1;32m     47\u001b[0m \u001b[39m        For this function, an AltAz or CIRS frame is expected.\u001b[39;00m\n\u001b[1;32m     48\u001b[0m \u001b[39m    \"\"\"\u001b[39;00m\n\u001b[0;32m---> 49\u001b[0m     lon, lat, height \u001b[39m=\u001b[39m frame_or_coord\u001b[39m.\u001b[39;49mlocation\u001b[39m.\u001b[39;49mto_geodetic(\u001b[39m\"\u001b[39m\u001b[39mWGS84\u001b[39m\u001b[39m\"\u001b[39m)\n\u001b[1;32m     50\u001b[0m     obstime \u001b[39m=\u001b[39m frame_or_coord\u001b[39m.\u001b[39mobstime\n\u001b[1;32m     52\u001b[0m     jd1_tt, jd2_tt \u001b[39m=\u001b[39m get_jd12(obstime, \u001b[39m\"\u001b[39m\u001b[39mtt\u001b[39m\u001b[39m\"\u001b[39m)\n",
      "\u001b[0;31mAttributeError\u001b[0m: 'NoneType' object has no attribute 'to_geodetic'"
     ]
    }
   ],
   "source": [
    "import time\n",
    "from astropy.coordinates import SkyCoord, AltAz\n",
    "from astropy.time import Time\n",
    "import astropy.units as u\n",
    "\n",
    "# Assuming you have a function to control telescope movements\n",
    "def move_telescope(alt, az):\n",
    "    # Code to move the telescope to the specified Alt and Az\n",
    "    print(f\"Moving telescope to Alt: {alt}, Az: {az}\")\n",
    "\n",
    "# Function to track Jupiter\n",
    "def track_jupiter():\n",
    "    while True:\n",
    "        # Get current time\n",
    "        current_time = Time.now()\n",
    "\n",
    "        # Get Jupiter's coordinates\n",
    "        jupiter_coords = SkyCoord.from_name(\"Jupiter\")\n",
    "\n",
    "        # Calculate AltAz coordinates for current time and location (default to Greenwich)\n",
    "        jupiter_altaz = jupiter_coords.transform_to(AltAz(obstime=current_time))\n",
    "\n",
    "        # Move telescope to track Jupiter's position\n",
    "        move_telescope(jupiter_altaz.alt.deg, jupiter_altaz.az.deg)\n",
    "\n",
    "        # Wait for some time before checking again\n",
    "        # Adjust the sleep time according to your needs\n",
    "        time.sleep(10)  # Check every 10 seconds\n",
    "\n",
    "if __name__ == \"__main__\":\n",
    "    track_jupiter()\n"
   ]
  },
  {
   "cell_type": "code",
   "execution_count": 25,
   "metadata": {},
   "outputs": [
    {
     "ename": "AttributeError",
     "evalue": "'NoneType' object has no attribute 'to_geodetic'",
     "output_type": "error",
     "traceback": [
      "\u001b[0;31m---------------------------------------------------------------------------\u001b[0m",
      "\u001b[0;31mAttributeError\u001b[0m                            Traceback (most recent call last)",
      "\u001b[1;32m/home/pavankumar/desktop/cephied/project.ipynb Cell 8\u001b[0m line \u001b[0;36m4\n\u001b[1;32m      <a href='vscode-notebook-cell:/home/pavankumar/desktop/cephied/project.ipynb#X10sZmlsZQ%3D%3D?line=0'>1</a>\u001b[0m jupiter_coords \u001b[39m=\u001b[39m SkyCoord(ra\u001b[39m=\u001b[39m\u001b[39m268.057\u001b[39m\u001b[39m*\u001b[39mu\u001b[39m.\u001b[39mdeg, dec\u001b[39m=\u001b[39m\u001b[39m-\u001b[39m\u001b[39m22.396\u001b[39m\u001b[39m*\u001b[39mu\u001b[39m.\u001b[39mdeg)\n\u001b[1;32m      <a href='vscode-notebook-cell:/home/pavankumar/desktop/cephied/project.ipynb#X10sZmlsZQ%3D%3D?line=2'>3</a>\u001b[0m         \u001b[39m# Calculate AltAz coordinates for current time and location (default to Greenwich)\u001b[39;00m\n\u001b[0;32m----> <a href='vscode-notebook-cell:/home/pavankumar/desktop/cephied/project.ipynb#X10sZmlsZQ%3D%3D?line=3'>4</a>\u001b[0m jupiter_altaz \u001b[39m=\u001b[39m jupiter_coords\u001b[39m.\u001b[39;49mtransform_to(AltAz(obstime\u001b[39m=\u001b[39;49mcurrent_time))\n",
      "File \u001b[0;32m~/.local/lib/python3.10/site-packages/astropy/coordinates/sky_coordinate.py:692\u001b[0m, in \u001b[0;36mSkyCoord.transform_to\u001b[0;34m(self, frame, merge_attributes)\u001b[0m\n\u001b[1;32m    688\u001b[0m generic_frame \u001b[39m=\u001b[39m GenericFrame(frame_kwargs)\n\u001b[1;32m    690\u001b[0m \u001b[39m# Do the transformation, returning a coordinate frame of the desired\u001b[39;00m\n\u001b[1;32m    691\u001b[0m \u001b[39m# final type (not generic).\u001b[39;00m\n\u001b[0;32m--> 692\u001b[0m new_coord \u001b[39m=\u001b[39m trans(\u001b[39mself\u001b[39;49m\u001b[39m.\u001b[39;49mframe, generic_frame)\n\u001b[1;32m    694\u001b[0m \u001b[39m# Finally make the new SkyCoord object from the `new_coord` and\u001b[39;00m\n\u001b[1;32m    695\u001b[0m \u001b[39m# remaining frame_kwargs that are not frame_attributes in `new_coord`.\u001b[39;00m\n\u001b[1;32m    696\u001b[0m \u001b[39mfor\u001b[39;00m attr \u001b[39min\u001b[39;00m \u001b[39mset\u001b[39m(new_coord\u001b[39m.\u001b[39mframe_attributes) \u001b[39m&\u001b[39m \u001b[39mset\u001b[39m(frame_kwargs\u001b[39m.\u001b[39mkeys()):\n",
      "File \u001b[0;32m~/.local/lib/python3.10/site-packages/astropy/coordinates/transformations.py:1537\u001b[0m, in \u001b[0;36mCompositeTransform.__call__\u001b[0;34m(self, fromcoord, toframe)\u001b[0m\n\u001b[1;32m   1534\u001b[0m             frattrs[inter_frame_attr_nm] \u001b[39m=\u001b[39m attr\n\u001b[1;32m   1536\u001b[0m     curr_toframe \u001b[39m=\u001b[39m t\u001b[39m.\u001b[39mtosys(\u001b[39m*\u001b[39m\u001b[39m*\u001b[39mfrattrs)\n\u001b[0;32m-> 1537\u001b[0m     curr_coord \u001b[39m=\u001b[39m t(curr_coord, curr_toframe)\n\u001b[1;32m   1539\u001b[0m \u001b[39m# this is safe even in the case where self.transforms is empty, because\u001b[39;00m\n\u001b[1;32m   1540\u001b[0m \u001b[39m# coordinate objects are immutable, so copying is not needed\u001b[39;00m\n\u001b[1;32m   1541\u001b[0m \u001b[39mreturn\u001b[39;00m curr_coord\n",
      "File \u001b[0;32m~/.local/lib/python3.10/site-packages/astropy/coordinates/transformations.py:1027\u001b[0m, in \u001b[0;36mFunctionTransformWithFiniteDifference.__call__\u001b[0;34m(self, fromcoord, toframe)\u001b[0m\n\u001b[1;32m   1025\u001b[0m supcall \u001b[39m=\u001b[39m \u001b[39mself\u001b[39m\u001b[39m.\u001b[39mfunc\n\u001b[1;32m   1026\u001b[0m \u001b[39mif\u001b[39;00m \u001b[39mnot\u001b[39;00m fromcoord\u001b[39m.\u001b[39mdata\u001b[39m.\u001b[39mdifferentials:\n\u001b[0;32m-> 1027\u001b[0m     \u001b[39mreturn\u001b[39;00m supcall(fromcoord, toframe)\n\u001b[1;32m   1028\u001b[0m \u001b[39m# this is the finite difference case\u001b[39;00m\n\u001b[1;32m   1030\u001b[0m \u001b[39mif\u001b[39;00m callable(\u001b[39mself\u001b[39m\u001b[39m.\u001b[39mfinite_difference_dt):\n",
      "File \u001b[0;32m~/.local/lib/python3.10/site-packages/astropy/coordinates/builtin_frames/icrs_observed_transforms.py:33\u001b[0m, in \u001b[0;36micrs_to_observed\u001b[0;34m(icrs_coo, observed_frame)\u001b[0m\n\u001b[1;32m     28\u001b[0m is_unitspherical \u001b[39m=\u001b[39m (\n\u001b[1;32m     29\u001b[0m     \u001b[39misinstance\u001b[39m(icrs_coo\u001b[39m.\u001b[39mdata, UnitSphericalRepresentation)\n\u001b[1;32m     30\u001b[0m     \u001b[39mor\u001b[39;00m icrs_coo\u001b[39m.\u001b[39mcartesian\u001b[39m.\u001b[39mx\u001b[39m.\u001b[39munit \u001b[39m==\u001b[39m u\u001b[39m.\u001b[39mone\n\u001b[1;32m     31\u001b[0m )\n\u001b[1;32m     32\u001b[0m \u001b[39m# first set up the astrometry context for ICRS<->observed\u001b[39;00m\n\u001b[0;32m---> 33\u001b[0m astrom \u001b[39m=\u001b[39m erfa_astrom\u001b[39m.\u001b[39;49mget()\u001b[39m.\u001b[39;49mapco(observed_frame)\n\u001b[1;32m     35\u001b[0m \u001b[39m# correct for parallax to find BCRS direction from observer (as in erfa.pmpx)\u001b[39;00m\n\u001b[1;32m     36\u001b[0m \u001b[39mif\u001b[39;00m is_unitspherical:\n",
      "File \u001b[0;32m~/.local/lib/python3.10/site-packages/astropy/coordinates/erfa_astrom.py:49\u001b[0m, in \u001b[0;36mErfaAstrom.apco\u001b[0;34m(frame_or_coord)\u001b[0m\n\u001b[1;32m     37\u001b[0m \u001b[39m@staticmethod\u001b[39m\n\u001b[1;32m     38\u001b[0m \u001b[39mdef\u001b[39;00m \u001b[39mapco\u001b[39m(frame_or_coord):\n\u001b[1;32m     39\u001b[0m \u001b[39m    \u001b[39m\u001b[39m\"\"\"\u001b[39;00m\n\u001b[1;32m     40\u001b[0m \u001b[39m    Wrapper for ``erfa.apco``, used in conversions AltAz <-> ICRS and CIRS <-> ICRS.\u001b[39;00m\n\u001b[1;32m     41\u001b[0m \n\u001b[0;32m   (...)\u001b[0m\n\u001b[1;32m     47\u001b[0m \u001b[39m        For this function, an AltAz or CIRS frame is expected.\u001b[39;00m\n\u001b[1;32m     48\u001b[0m \u001b[39m    \"\"\"\u001b[39;00m\n\u001b[0;32m---> 49\u001b[0m     lon, lat, height \u001b[39m=\u001b[39m frame_or_coord\u001b[39m.\u001b[39;49mlocation\u001b[39m.\u001b[39;49mto_geodetic(\u001b[39m\"\u001b[39m\u001b[39mWGS84\u001b[39m\u001b[39m\"\u001b[39m)\n\u001b[1;32m     50\u001b[0m     obstime \u001b[39m=\u001b[39m frame_or_coord\u001b[39m.\u001b[39mobstime\n\u001b[1;32m     52\u001b[0m     jd1_tt, jd2_tt \u001b[39m=\u001b[39m get_jd12(obstime, \u001b[39m\"\u001b[39m\u001b[39mtt\u001b[39m\u001b[39m\"\u001b[39m)\n",
      "\u001b[0;31mAttributeError\u001b[0m: 'NoneType' object has no attribute 'to_geodetic'"
     ]
    }
   ],
   "source": [
    "jupiter_coords = SkyCoord(ra=268.057*u.deg, dec=-22.396*u.deg)\n",
    "\n",
    "        # Calculate AltAz coordinates for current time and location (default to Greenwich)\n",
    "jupiter_altaz = jupiter_coords.transform_to(AltAz(obstime=current_time))\n"
   ]
  },
  {
   "cell_type": "code",
   "execution_count": 2,
   "metadata": {},
   "outputs": [
    {
     "ename": "ValueError",
     "evalue": "Unrecognized keyword argument(s) 'lon', 'lat'",
     "output_type": "error",
     "traceback": [
      "\u001b[0;31m---------------------------------------------------------------------------\u001b[0m",
      "\u001b[0;31mValueError\u001b[0m                                Traceback (most recent call last)",
      "\u001b[1;32m/home/pavankumar/desktop/cephied/project.ipynb Cell 9\u001b[0m line \u001b[0;36m3\n\u001b[1;32m     <a href='vscode-notebook-cell:/home/pavankumar/desktop/cephied/project.ipynb#X11sZmlsZQ%3D%3D?line=30'>31</a>\u001b[0m     time\u001b[39m.\u001b[39msleep(\u001b[39m10\u001b[39m)  \u001b[39m# Check every 10 seconds\u001b[39;00m\n\u001b[1;32m     <a href='vscode-notebook-cell:/home/pavankumar/desktop/cephied/project.ipynb#X11sZmlsZQ%3D%3D?line=32'>33</a>\u001b[0m \u001b[39mif\u001b[39;00m \u001b[39m__name__\u001b[39m \u001b[39m==\u001b[39m \u001b[39m\"\u001b[39m\u001b[39m__main__\u001b[39m\u001b[39m\"\u001b[39m:\n\u001b[0;32m---> <a href='vscode-notebook-cell:/home/pavankumar/desktop/cephied/project.ipynb#X11sZmlsZQ%3D%3D?line=33'>34</a>\u001b[0m   track_jupiter()\n",
      "\u001b[1;32m/home/pavankumar/desktop/cephied/project.ipynb Cell 9\u001b[0m line \u001b[0;36m2\n\u001b[1;32m     <a href='vscode-notebook-cell:/home/pavankumar/desktop/cephied/project.ipynb#X11sZmlsZQ%3D%3D?line=17'>18</a>\u001b[0m jupiter_coords \u001b[39m=\u001b[39m SkyCoord(ra\u001b[39m=\u001b[39m\u001b[39m268.057\u001b[39m\u001b[39m*\u001b[39mu\u001b[39m.\u001b[39mdeg, dec\u001b[39m=\u001b[39m\u001b[39m-\u001b[39m\u001b[39m22.396\u001b[39m\u001b[39m*\u001b[39mu\u001b[39m.\u001b[39mdeg, frame\u001b[39m=\u001b[39mICRS)\n\u001b[1;32m     <a href='vscode-notebook-cell:/home/pavankumar/desktop/cephied/project.ipynb#X11sZmlsZQ%3D%3D?line=19'>20</a>\u001b[0m \u001b[39m# Create location object with your specific coordinates\u001b[39;00m\n\u001b[0;32m---> <a href='vscode-notebook-cell:/home/pavankumar/desktop/cephied/project.ipynb#X11sZmlsZQ%3D%3D?line=20'>21</a>\u001b[0m your_location \u001b[39m=\u001b[39m SkyCoord(lon\u001b[39m=\u001b[39;49m\u001b[39m78.12170\u001b[39;49m\u001b[39m*\u001b[39;49mu\u001b[39m.\u001b[39;49mdeg, lat\u001b[39m=\u001b[39;49m\u001b[39m17.582222\u001b[39;49m\u001b[39m*\u001b[39;49mu\u001b[39m.\u001b[39;49mdeg, frame\u001b[39m=\u001b[39;49m\u001b[39m'\u001b[39;49m\u001b[39micrs\u001b[39;49m\u001b[39m'\u001b[39;49m)\n\u001b[1;32m     <a href='vscode-notebook-cell:/home/pavankumar/desktop/cephied/project.ipynb#X11sZmlsZQ%3D%3D?line=22'>23</a>\u001b[0m \u001b[39m# Calculate AltAz coordinates for current time and your location\u001b[39;00m\n\u001b[1;32m     <a href='vscode-notebook-cell:/home/pavankumar/desktop/cephied/project.ipynb#X11sZmlsZQ%3D%3D?line=23'>24</a>\u001b[0m jupiter_altaz \u001b[39m=\u001b[39m jupiter_coords\u001b[39m.\u001b[39mtransform_to(AltAz(obstime\u001b[39m=\u001b[39mcurrent_time, location\u001b[39m=\u001b[39myour_location))\n",
      "File \u001b[0;32m~/.local/lib/python3.10/site-packages/astropy/coordinates/sky_coordinate.py:339\u001b[0m, in \u001b[0;36mSkyCoord.__init__\u001b[0;34m(self, copy, *args, **kwargs)\u001b[0m\n\u001b[1;32m    335\u001b[0m \u001b[39m# Parse the args and kwargs to assemble a sanitized and validated\u001b[39;00m\n\u001b[1;32m    336\u001b[0m \u001b[39m# kwargs dict for initializing attributes for this object and for\u001b[39;00m\n\u001b[1;32m    337\u001b[0m \u001b[39m# creating the internal self._sky_coord_frame object\u001b[39;00m\n\u001b[1;32m    338\u001b[0m args \u001b[39m=\u001b[39m \u001b[39mlist\u001b[39m(args)  \u001b[39m# Make it mutable\u001b[39;00m\n\u001b[0;32m--> 339\u001b[0m skycoord_kwargs, components, info \u001b[39m=\u001b[39m _parse_coordinate_data(\n\u001b[1;32m    340\u001b[0m     frame_cls(\u001b[39m*\u001b[39;49m\u001b[39m*\u001b[39;49mframe_kwargs), args, kwargs\n\u001b[1;32m    341\u001b[0m )\n\u001b[1;32m    343\u001b[0m \u001b[39m# In the above two parsing functions, these kwargs were identified\u001b[39;00m\n\u001b[1;32m    344\u001b[0m \u001b[39m# as valid frame attributes for *some* frame, but not the frame that\u001b[39;00m\n\u001b[1;32m    345\u001b[0m \u001b[39m# this SkyCoord will have. We keep these attributes as special\u001b[39;00m\n\u001b[1;32m    346\u001b[0m \u001b[39m# skycoord frame attributes:\u001b[39;00m\n\u001b[1;32m    347\u001b[0m \u001b[39mfor\u001b[39;00m attr \u001b[39min\u001b[39;00m skycoord_kwargs:\n\u001b[1;32m    348\u001b[0m     \u001b[39m# Setting it will also validate it.\u001b[39;00m\n",
      "File \u001b[0;32m~/.local/lib/python3.10/site-packages/astropy/coordinates/sky_coordinate_parsers.py:276\u001b[0m, in \u001b[0;36m_parse_coordinate_data\u001b[0;34m(frame, args, kwargs)\u001b[0m\n\u001b[1;32m    268\u001b[0m         \u001b[39mif\u001b[39;00m \u001b[39mf\u001b[39m\u001b[39m\"\u001b[39m\u001b[39mpm_\u001b[39m\u001b[39m{\u001b[39;00mlon_name\u001b[39m}\u001b[39;00m\u001b[39m\"\u001b[39m \u001b[39min\u001b[39;00m \u001b[39mlist\u001b[39m(kwargs\u001b[39m.\u001b[39mkeys()):\n\u001b[1;32m    269\u001b[0m             pm_message \u001b[39m=\u001b[39m (\n\u001b[1;32m    270\u001b[0m                 \u001b[39m\"\u001b[39m\u001b[39m\\n\u001b[39;00m\u001b[39m\\n\u001b[39;00m\u001b[39m By default, most frame classes expect the longitudinal proper\u001b[39m\u001b[39m\"\u001b[39m\n\u001b[1;32m    271\u001b[0m                 \u001b[39m\"\u001b[39m\u001b[39m motion to include the cos(latitude) term, named\u001b[39m\u001b[39m\"\u001b[39m\n\u001b[1;32m    272\u001b[0m                 \u001b[39mf\u001b[39m\u001b[39m\"\u001b[39m\u001b[39m `pm_\u001b[39m\u001b[39m{\u001b[39;00mlon_name\u001b[39m}\u001b[39;00m\u001b[39m_cos\u001b[39m\u001b[39m{\u001b[39;00mlat_name\u001b[39m}\u001b[39;00m\u001b[39m`. Did you mean to pass in this\u001b[39m\u001b[39m\"\u001b[39m\n\u001b[1;32m    273\u001b[0m                 \u001b[39m\"\u001b[39m\u001b[39m component?\u001b[39m\u001b[39m\"\u001b[39m\n\u001b[1;32m    274\u001b[0m             )\n\u001b[0;32m--> 276\u001b[0m     \u001b[39mraise\u001b[39;00m \u001b[39mValueError\u001b[39;00m(\n\u001b[1;32m    277\u001b[0m         \u001b[39m\"\u001b[39m\u001b[39mUnrecognized keyword argument(s) \u001b[39m\u001b[39m{}\u001b[39;00m\u001b[39m{}\u001b[39;00m\u001b[39m\"\u001b[39m\u001b[39m.\u001b[39mformat(\n\u001b[1;32m    278\u001b[0m             \u001b[39m\"\u001b[39m\u001b[39m, \u001b[39m\u001b[39m\"\u001b[39m\u001b[39m.\u001b[39mjoin(\u001b[39mf\u001b[39m\u001b[39m\"\u001b[39m\u001b[39m'\u001b[39m\u001b[39m{\u001b[39;00mkey\u001b[39m}\u001b[39;00m\u001b[39m'\u001b[39m\u001b[39m\"\u001b[39m \u001b[39mfor\u001b[39;00m key \u001b[39min\u001b[39;00m kwargs), pm_message\n\u001b[1;32m    279\u001b[0m         )\n\u001b[1;32m    280\u001b[0m     )\n\u001b[1;32m    282\u001b[0m \u001b[39m# Finally deal with the unnamed args.  This figures out what the arg[0]\u001b[39;00m\n\u001b[1;32m    283\u001b[0m \u001b[39m# is and returns a dict with appropriate key/values for initializing\u001b[39;00m\n\u001b[1;32m    284\u001b[0m \u001b[39m# frame class. Note that differentials are *never* valid args, only\u001b[39;00m\n\u001b[1;32m    285\u001b[0m \u001b[39m# kwargs.  So they are not accounted for here (unless they're in a frame\u001b[39;00m\n\u001b[1;32m    286\u001b[0m \u001b[39m# or SkyCoord object)\u001b[39;00m\n\u001b[1;32m    287\u001b[0m \u001b[39mif\u001b[39;00m args:\n",
      "\u001b[0;31mValueError\u001b[0m: Unrecognized keyword argument(s) 'lon', 'lat'"
     ]
    }
   ],
   "source": [
    "import time\n",
    "from astropy.coordinates import SkyCoord, AltAz, ICRS\n",
    "from astropy.time import Time\n",
    "import astropy.units as u\n",
    "\n",
    "# Assuming you have a function to control telescope movements\n",
    "def move_telescope(alt, az):\n",
    "  # Code to move the telescope to the specified Alt and Az\n",
    "  print(f\"Moving telescope to Alt: {alt}, Az: {az}\")\n",
    "\n",
    "# Function to track Jupiter\n",
    "def track_jupiter():\n",
    "  while True:\n",
    "    # Get current time\n",
    "    current_time = Time.now()\n",
    "\n",
    "    # Specify Jupiter's coordinates manually (RA and Dec in degrees)\n",
    "    jupiter_coords = SkyCoord(ra=268.057*u.deg, dec=-22.396*u.deg, frame=ICRS)\n",
    "\n",
    "    # Create location object with your specific coordinates\n",
    "    your_location = SkyCoord(lon=78.12170*u.deg, lat=17.582222*u.deg, frame='icrs')\n",
    "\n",
    "    # Calculate AltAz coordinates for current time and your location\n",
    "    jupiter_altaz = jupiter_coords.transform_to(AltAz(obstime=current_time, location=your_location))\n",
    "\n",
    "    # Move telescope to track Jupiter's position\n",
    "    move_telescope(jupiter_altaz.alt.deg, jupiter_altaz.az.deg)\n",
    "\n",
    "    # Wait for some time before checking again\n",
    "    # Adjust the sleep time according to your needs\n",
    "    time.sleep(10)  # Check every 10 seconds\n",
    "\n",
    "if __name__ == \"__main__\":\n",
    "  track_jupiter()\n"
   ]
  },
  {
   "cell_type": "code",
   "execution_count": 27,
   "metadata": {},
   "outputs": [
    {
     "ename": "ValueError",
     "evalue": "Unrecognized keyword argument(s) 'lon', 'lat', 'height'",
     "output_type": "error",
     "traceback": [
      "\u001b[0;31m---------------------------------------------------------------------------\u001b[0m",
      "\u001b[0;31mValueError\u001b[0m                                Traceback (most recent call last)",
      "\u001b[1;32m/home/pavankumar/desktop/cephied/project.ipynb Cell 10\u001b[0m line \u001b[0;36m4\n\u001b[1;32m      <a href='vscode-notebook-cell:/home/pavankumar/desktop/cephied/project.ipynb#X12sZmlsZQ%3D%3D?line=0'>1</a>\u001b[0m jupiter_coords \u001b[39m=\u001b[39m SkyCoord(ra\u001b[39m=\u001b[39m\u001b[39m268.057\u001b[39m\u001b[39m*\u001b[39mu\u001b[39m.\u001b[39mdeg, dec\u001b[39m=\u001b[39m\u001b[39m-\u001b[39m\u001b[39m22.396\u001b[39m\u001b[39m*\u001b[39mu\u001b[39m.\u001b[39mdeg, frame\u001b[39m=\u001b[39m\u001b[39m'\u001b[39m\u001b[39micrs\u001b[39m\u001b[39m'\u001b[39m)\n\u001b[1;32m      <a href='vscode-notebook-cell:/home/pavankumar/desktop/cephied/project.ipynb#X12sZmlsZQ%3D%3D?line=2'>3</a>\u001b[0m \u001b[39m# Create your location coordinates\u001b[39;00m\n\u001b[0;32m----> <a href='vscode-notebook-cell:/home/pavankumar/desktop/cephied/project.ipynb#X12sZmlsZQ%3D%3D?line=3'>4</a>\u001b[0m your_location \u001b[39m=\u001b[39m SkyCoord(lon\u001b[39m=\u001b[39;49m\u001b[39m78.12170\u001b[39;49m\u001b[39m*\u001b[39;49mu\u001b[39m.\u001b[39;49mdeg, lat\u001b[39m=\u001b[39;49m\u001b[39m17.582222\u001b[39;49m\u001b[39m*\u001b[39;49mu\u001b[39m.\u001b[39;49mdeg, height\u001b[39m=\u001b[39;49m\u001b[39m0\u001b[39;49m\u001b[39m*\u001b[39;49mu\u001b[39m.\u001b[39;49mm)\n\u001b[1;32m      <a href='vscode-notebook-cell:/home/pavankumar/desktop/cephied/project.ipynb#X12sZmlsZQ%3D%3D?line=5'>6</a>\u001b[0m \u001b[39m# Calculate AltAz coordinates for current time and your location\u001b[39;00m\n\u001b[1;32m      <a href='vscode-notebook-cell:/home/pavankumar/desktop/cephied/project.ipynb#X12sZmlsZQ%3D%3D?line=6'>7</a>\u001b[0m jupiter_altaz \u001b[39m=\u001b[39m jupiter_coords\u001b[39m.\u001b[39mtransform_to(AltAz(obstime\u001b[39m=\u001b[39mcurrent_time, location\u001b[39m=\u001b[39myour_location))\n",
      "File \u001b[0;32m~/.local/lib/python3.10/site-packages/astropy/coordinates/sky_coordinate.py:339\u001b[0m, in \u001b[0;36mSkyCoord.__init__\u001b[0;34m(self, copy, *args, **kwargs)\u001b[0m\n\u001b[1;32m    335\u001b[0m \u001b[39m# Parse the args and kwargs to assemble a sanitized and validated\u001b[39;00m\n\u001b[1;32m    336\u001b[0m \u001b[39m# kwargs dict for initializing attributes for this object and for\u001b[39;00m\n\u001b[1;32m    337\u001b[0m \u001b[39m# creating the internal self._sky_coord_frame object\u001b[39;00m\n\u001b[1;32m    338\u001b[0m args \u001b[39m=\u001b[39m \u001b[39mlist\u001b[39m(args)  \u001b[39m# Make it mutable\u001b[39;00m\n\u001b[0;32m--> 339\u001b[0m skycoord_kwargs, components, info \u001b[39m=\u001b[39m _parse_coordinate_data(\n\u001b[1;32m    340\u001b[0m     frame_cls(\u001b[39m*\u001b[39;49m\u001b[39m*\u001b[39;49mframe_kwargs), args, kwargs\n\u001b[1;32m    341\u001b[0m )\n\u001b[1;32m    343\u001b[0m \u001b[39m# In the above two parsing functions, these kwargs were identified\u001b[39;00m\n\u001b[1;32m    344\u001b[0m \u001b[39m# as valid frame attributes for *some* frame, but not the frame that\u001b[39;00m\n\u001b[1;32m    345\u001b[0m \u001b[39m# this SkyCoord will have. We keep these attributes as special\u001b[39;00m\n\u001b[1;32m    346\u001b[0m \u001b[39m# skycoord frame attributes:\u001b[39;00m\n\u001b[1;32m    347\u001b[0m \u001b[39mfor\u001b[39;00m attr \u001b[39min\u001b[39;00m skycoord_kwargs:\n\u001b[1;32m    348\u001b[0m     \u001b[39m# Setting it will also validate it.\u001b[39;00m\n",
      "File \u001b[0;32m~/.local/lib/python3.10/site-packages/astropy/coordinates/sky_coordinate_parsers.py:276\u001b[0m, in \u001b[0;36m_parse_coordinate_data\u001b[0;34m(frame, args, kwargs)\u001b[0m\n\u001b[1;32m    268\u001b[0m         \u001b[39mif\u001b[39;00m \u001b[39mf\u001b[39m\u001b[39m\"\u001b[39m\u001b[39mpm_\u001b[39m\u001b[39m{\u001b[39;00mlon_name\u001b[39m}\u001b[39;00m\u001b[39m\"\u001b[39m \u001b[39min\u001b[39;00m \u001b[39mlist\u001b[39m(kwargs\u001b[39m.\u001b[39mkeys()):\n\u001b[1;32m    269\u001b[0m             pm_message \u001b[39m=\u001b[39m (\n\u001b[1;32m    270\u001b[0m                 \u001b[39m\"\u001b[39m\u001b[39m\\n\u001b[39;00m\u001b[39m\\n\u001b[39;00m\u001b[39m By default, most frame classes expect the longitudinal proper\u001b[39m\u001b[39m\"\u001b[39m\n\u001b[1;32m    271\u001b[0m                 \u001b[39m\"\u001b[39m\u001b[39m motion to include the cos(latitude) term, named\u001b[39m\u001b[39m\"\u001b[39m\n\u001b[1;32m    272\u001b[0m                 \u001b[39mf\u001b[39m\u001b[39m\"\u001b[39m\u001b[39m `pm_\u001b[39m\u001b[39m{\u001b[39;00mlon_name\u001b[39m}\u001b[39;00m\u001b[39m_cos\u001b[39m\u001b[39m{\u001b[39;00mlat_name\u001b[39m}\u001b[39;00m\u001b[39m`. Did you mean to pass in this\u001b[39m\u001b[39m\"\u001b[39m\n\u001b[1;32m    273\u001b[0m                 \u001b[39m\"\u001b[39m\u001b[39m component?\u001b[39m\u001b[39m\"\u001b[39m\n\u001b[1;32m    274\u001b[0m             )\n\u001b[0;32m--> 276\u001b[0m     \u001b[39mraise\u001b[39;00m \u001b[39mValueError\u001b[39;00m(\n\u001b[1;32m    277\u001b[0m         \u001b[39m\"\u001b[39m\u001b[39mUnrecognized keyword argument(s) \u001b[39m\u001b[39m{}\u001b[39;00m\u001b[39m{}\u001b[39;00m\u001b[39m\"\u001b[39m\u001b[39m.\u001b[39mformat(\n\u001b[1;32m    278\u001b[0m             \u001b[39m\"\u001b[39m\u001b[39m, \u001b[39m\u001b[39m\"\u001b[39m\u001b[39m.\u001b[39mjoin(\u001b[39mf\u001b[39m\u001b[39m\"\u001b[39m\u001b[39m'\u001b[39m\u001b[39m{\u001b[39;00mkey\u001b[39m}\u001b[39;00m\u001b[39m'\u001b[39m\u001b[39m\"\u001b[39m \u001b[39mfor\u001b[39;00m key \u001b[39min\u001b[39;00m kwargs), pm_message\n\u001b[1;32m    279\u001b[0m         )\n\u001b[1;32m    280\u001b[0m     )\n\u001b[1;32m    282\u001b[0m \u001b[39m# Finally deal with the unnamed args.  This figures out what the arg[0]\u001b[39;00m\n\u001b[1;32m    283\u001b[0m \u001b[39m# is and returns a dict with appropriate key/values for initializing\u001b[39;00m\n\u001b[1;32m    284\u001b[0m \u001b[39m# frame class. Note that differentials are *never* valid args, only\u001b[39;00m\n\u001b[1;32m    285\u001b[0m \u001b[39m# kwargs.  So they are not accounted for here (unless they're in a frame\u001b[39;00m\n\u001b[1;32m    286\u001b[0m \u001b[39m# or SkyCoord object)\u001b[39;00m\n\u001b[1;32m    287\u001b[0m \u001b[39mif\u001b[39;00m args:\n",
      "\u001b[0;31mValueError\u001b[0m: Unrecognized keyword argument(s) 'lon', 'lat', 'height'"
     ]
    }
   ],
   "source": [
    "jupiter_coords = SkyCoord(ra=268.057*u.deg, dec=-22.396*u.deg, frame='icrs')\n",
    "\n",
    "# Create your location coordinates\n",
    "your_location = SkyCoord(lon=78.12170*u.deg, lat=17.582222*u.deg, height=0*u.m)\n",
    "\n",
    "# Calculate AltAz coordinates for current time and your location\n",
    "jupiter_altaz = jupiter_coords.transform_to(AltAz(obstime=current_time, location=your_location))\n"
   ]
  },
  {
   "cell_type": "code",
   "execution_count": 28,
   "metadata": {},
   "outputs": [],
   "source": [
    "jupiter_coords = SkyCoord(ra=268.057*u.deg, dec=-22.396*u.deg, frame='icrs')\n",
    "\n",
    "# Specify your location (longitude, latitude, and height in degrees and meters)\n",
    "longitude = 78.12170*u.deg\n",
    "latitude = 17.582222*u.deg\n",
    "height = 0*u.m\n",
    "your_location = EarthLocation.from_geodetic(longitude, latitude, height)\n",
    "\n",
    "# Calculate AltAz coordinates for current time and your location\n",
    "jupiter_altaz = jupiter_coords.transform_to(AltAz(obstime=current_time, location=your_location))\n"
   ]
  },
  {
   "cell_type": "code",
   "execution_count": 29,
   "metadata": {},
   "outputs": [
    {
     "data": {
      "text/plain": [
       "<SkyCoord (AltAz: obstime=2024-03-19 11:45:42.457212, location=(1251887.34397755, 5951802.09832893, 1914357.0184719) m, pressure=0.0 hPa, temperature=0.0 deg_C, relative_humidity=0.0, obswl=1.0 micron): (az, alt) in deg\n",
       "    (249.8889363, -73.90180406)>"
      ]
     },
     "execution_count": 29,
     "metadata": {},
     "output_type": "execute_result"
    }
   ],
   "source": [
    "jupiter_altaz"
   ]
  },
  {
   "cell_type": "code",
   "execution_count": 30,
   "metadata": {},
   "outputs": [],
   "source": [
    "jupiter_coords = SkyCoord(ra=268.057*u.deg, dec=-22.396*u.deg, frame='icrs')\n",
    "\n",
    "# Specify your location (longitude and latitude in degrees)\n",
    "longitude = 78.12170*u.deg\n",
    "latitude = 17.582222*u.deg\n",
    "height = 0*u.m  # Assuming sea level\n",
    "\n",
    "# Create EarthLocation object for your location\n",
    "your_location = EarthLocation(lat=latitude, lon=longitude, height=height)\n",
    "\n",
    "# Calculate AltAz coordinates for current time and your location\n",
    "jupiter_altaz = jupiter_coords.transform_to(AltAz(obstime=current_time, location=your_location))\n",
    "\n"
   ]
  },
  {
   "cell_type": "code",
   "execution_count": 31,
   "metadata": {},
   "outputs": [
    {
     "data": {
      "text/plain": [
       "<SkyCoord (AltAz: obstime=2024-03-19 11:45:42.457212, location=(1251887.34397755, 5951802.09832893, 1914357.0184719) m, pressure=0.0 hPa, temperature=0.0 deg_C, relative_humidity=0.0, obswl=1.0 micron): (az, alt) in deg\n",
       "    (249.8889363, -73.90180406)>"
      ]
     },
     "execution_count": 31,
     "metadata": {},
     "output_type": "execute_result"
    }
   ],
   "source": [
    "jupiter_altaz"
   ]
  },
  {
   "cell_type": "code",
   "execution_count": 4,
   "metadata": {},
   "outputs": [
    {
     "name": "stdout",
     "output_type": "stream",
     "text": [
      "2024-03-20T22:53:00.000\n",
      "\n",
      "Moving telescope to Alt: -52.65319886716043, Az: 28.597469314553937\n",
      "Moving telescope to Alt: -52.65319886716043, Az: 28.597469314553937\n"
     ]
    },
    {
     "ename": "KeyboardInterrupt",
     "evalue": "",
     "output_type": "error",
     "traceback": [
      "\u001b[0;31m---------------------------------------------------------------------------\u001b[0m",
      "\u001b[0;31mKeyboardInterrupt\u001b[0m                         Traceback (most recent call last)",
      "\u001b[1;32m/home/pavankumar/desktop/cephied/project.ipynb Cell 15\u001b[0m line \u001b[0;36m4\n\u001b[1;32m     <a href='vscode-notebook-cell:/home/pavankumar/desktop/cephied/project.ipynb#X20sZmlsZQ%3D%3D?line=43'>44</a>\u001b[0m         time\u001b[39m.\u001b[39msleep(\u001b[39m10\u001b[39m)  \u001b[39m# Check every 10 seconds\u001b[39;00m\n\u001b[1;32m     <a href='vscode-notebook-cell:/home/pavankumar/desktop/cephied/project.ipynb#X20sZmlsZQ%3D%3D?line=45'>46</a>\u001b[0m \u001b[39mif\u001b[39;00m \u001b[39m__name__\u001b[39m \u001b[39m==\u001b[39m \u001b[39m\"\u001b[39m\u001b[39m__main__\u001b[39m\u001b[39m\"\u001b[39m:\n\u001b[0;32m---> <a href='vscode-notebook-cell:/home/pavankumar/desktop/cephied/project.ipynb#X20sZmlsZQ%3D%3D?line=46'>47</a>\u001b[0m     track_jupiter()\n",
      "\u001b[1;32m/home/pavankumar/desktop/cephied/project.ipynb Cell 15\u001b[0m line \u001b[0;36m4\n\u001b[1;32m     <a href='vscode-notebook-cell:/home/pavankumar/desktop/cephied/project.ipynb#X20sZmlsZQ%3D%3D?line=39'>40</a>\u001b[0m move_telescope(jupiter_altaz\u001b[39m.\u001b[39malt\u001b[39m.\u001b[39mdeg, jupiter_altaz\u001b[39m.\u001b[39maz\u001b[39m.\u001b[39mdeg)\n\u001b[1;32m     <a href='vscode-notebook-cell:/home/pavankumar/desktop/cephied/project.ipynb#X20sZmlsZQ%3D%3D?line=41'>42</a>\u001b[0m \u001b[39m# Wait for some time before checking again\u001b[39;00m\n\u001b[1;32m     <a href='vscode-notebook-cell:/home/pavankumar/desktop/cephied/project.ipynb#X20sZmlsZQ%3D%3D?line=42'>43</a>\u001b[0m \u001b[39m# Adjust the sleep time according to your needs\u001b[39;00m\n\u001b[0;32m---> <a href='vscode-notebook-cell:/home/pavankumar/desktop/cephied/project.ipynb#X20sZmlsZQ%3D%3D?line=43'>44</a>\u001b[0m time\u001b[39m.\u001b[39;49msleep(\u001b[39m10\u001b[39;49m)\n",
      "\u001b[0;31mKeyboardInterrupt\u001b[0m: "
     ]
    }
   ],
   "source": [
    "import astropy.units as u\n",
    "from astropy.coordinates import SkyCoord, AltAz, EarthLocation\n",
    "from astropy.time import Time\n",
    "import time\n",
    "\n",
    "# Assuming you have a function to control telescope movements\n",
    "def move_telescope(alt, az):\n",
    "    # Code to move the telescope to the specified Alt and Az\n",
    "    print(f\"Moving telescope to Alt: {alt}, Az: {az}\")\n",
    "date_input = input(\"Enter the date in YYYY-MM-DD format: \")\n",
    "time_input = input(\"Enter the time in HH:MM:SS format: \")\n",
    "\n",
    "# Parse the date and time input\n",
    "date_time_input = f\"{date_input}T{time_input}\"\n",
    "current_time = Time(date_time_input, format='isot', scale='utc')\n",
    "print(current_time)\n",
    "print()\n",
    "\n",
    "# Function to track Jupiter\n",
    "def track_jupiter():\n",
    "    while True:\n",
    "        # Ask for user input for date and time\n",
    "        \n",
    "\n",
    "        # Specify Jupiter's coordinates manually (RA and Dec in degrees)\n",
    "        jupiter_coords = SkyCoord(ra=42.46*u.deg, dec=15.4226*u.deg, frame='icrs')\n",
    "\n",
    "        # Specify your location (longitude and latitude in degrees)\n",
    "        longitude = 78.12170*u.deg\n",
    "        latitude = 17.582222*u.deg\n",
    "        height = 0*u.m  # Assuming sea level\n",
    "\n",
    "        # Create EarthLocation object for your location\n",
    "        your_location = EarthLocation.from_geodetic(longitude, latitude, height)\n",
    "\n",
    "        # Calculate AltAz coordinates for current time and your location\n",
    "        jupiter_altaz = jupiter_coords.transform_to(AltAz(obstime=current_time, location=your_location))\n",
    "\n",
    "        # Move telescope to track Jupiter's position\n",
    "        move_telescope(jupiter_altaz.alt.deg, jupiter_altaz.az.deg)\n",
    "\n",
    "        # Wait for some time before checking again\n",
    "        # Adjust the sleep time according to your needs\n",
    "        time.sleep(10)  # Check every 10 seconds\n",
    "\n",
    "if __name__ == \"__main__\":\n",
    "    track_jupiter()\n"
   ]
  },
  {
   "cell_type": "code",
   "execution_count": 9,
   "metadata": {},
   "outputs": [
    {
     "name": "stdout",
     "output_type": "stream",
     "text": [
      "<SkyCoord (ICRS): (ra, dec) in deg\n",
      "    (2.81491299, 15.3473037)>\n",
      "2024-03-20T22:53:00.000\n"
     ]
    }
   ],
   "source": [
    "print(SkyCoord.from_name('Jupiter'))\n",
    "print(current_time)\n",
    "date_time_input = current_time"
   ]
  },
  {
   "cell_type": "code",
   "execution_count": 11,
   "metadata": {},
   "outputs": [
    {
     "ename": "ValueError",
     "evalue": "dates must be initialized from a number, string, tuple, or datetime",
     "output_type": "error",
     "traceback": [
      "\u001b[0;31m---------------------------------------------------------------------------\u001b[0m",
      "\u001b[0;31mValueError\u001b[0m                                Traceback (most recent call last)",
      "\u001b[1;32m/home/pavankumar/desktop/cephied/project.ipynb Cell 17\u001b[0m line \u001b[0;36m4\n\u001b[1;32m     <a href='vscode-notebook-cell:/home/pavankumar/desktop/cephied/project.ipynb#X25sZmlsZQ%3D%3D?line=36'>37</a>\u001b[0m         time\u001b[39m.\u001b[39msleep(\u001b[39m10\u001b[39m)  \u001b[39m# Check every 10 seconds\u001b[39;00m\n\u001b[1;32m     <a href='vscode-notebook-cell:/home/pavankumar/desktop/cephied/project.ipynb#X25sZmlsZQ%3D%3D?line=38'>39</a>\u001b[0m \u001b[39mif\u001b[39;00m \u001b[39m__name__\u001b[39m \u001b[39m==\u001b[39m \u001b[39m\"\u001b[39m\u001b[39m__main__\u001b[39m\u001b[39m\"\u001b[39m:\n\u001b[0;32m---> <a href='vscode-notebook-cell:/home/pavankumar/desktop/cephied/project.ipynb#X25sZmlsZQ%3D%3D?line=39'>40</a>\u001b[0m     track_jupiter()\n",
      "\u001b[1;32m/home/pavankumar/desktop/cephied/project.ipynb Cell 17\u001b[0m line \u001b[0;36m2\n\u001b[1;32m     <a href='vscode-notebook-cell:/home/pavankumar/desktop/cephied/project.ipynb#X25sZmlsZQ%3D%3D?line=18'>19</a>\u001b[0m observer\u001b[39m.\u001b[39melevation \u001b[39m=\u001b[39m \u001b[39m0\u001b[39m  \u001b[39m# height in meters (sea level)\u001b[39;00m\n\u001b[1;32m     <a href='vscode-notebook-cell:/home/pavankumar/desktop/cephied/project.ipynb#X25sZmlsZQ%3D%3D?line=20'>21</a>\u001b[0m \u001b[39m# Convert input date and time to ephem format\u001b[39;00m\n\u001b[0;32m---> <a href='vscode-notebook-cell:/home/pavankumar/desktop/cephied/project.ipynb#X25sZmlsZQ%3D%3D?line=21'>22</a>\u001b[0m observer\u001b[39m.\u001b[39mdate \u001b[39m=\u001b[39m ephem\u001b[39m.\u001b[39;49mDate(date_time_input)\n\u001b[1;32m     <a href='vscode-notebook-cell:/home/pavankumar/desktop/cephied/project.ipynb#X25sZmlsZQ%3D%3D?line=23'>24</a>\u001b[0m \u001b[39m# Get Jupiter's coordinates\u001b[39;00m\n\u001b[1;32m     <a href='vscode-notebook-cell:/home/pavankumar/desktop/cephied/project.ipynb#X25sZmlsZQ%3D%3D?line=24'>25</a>\u001b[0m jupiter \u001b[39m=\u001b[39m ephem\u001b[39m.\u001b[39mJupiter()\n",
      "\u001b[0;31mValueError\u001b[0m: dates must be initialized from a number, string, tuple, or datetime"
     ]
    }
   ],
   "source": [
    "import ephem\n",
    "import time\n",
    "\n",
    "# Assuming you have a function to control telescope movements\n",
    "def move_telescope(alt, az):\n",
    "    # Code to move the telescope to the specified Alt and Az\n",
    "    print(f\"Moving telescope to Alt: {alt}, Az: {az}\")\n",
    "\n",
    "# Function to track Jupiter\n",
    "def track_jupiter():\n",
    "    while True:\n",
    "        # Ask for user input for date and time\n",
    "        \n",
    "        \n",
    "        # Set observer location (longitude and latitude in degrees)\n",
    "        observer = ephem.Observer()\n",
    "        observer.lon = '78.12170'  # longitude in degrees\n",
    "        observer.lat = '17.582222'  # latitude in degrees\n",
    "        observer.elevation = 0  # height in meters (sea level)\n",
    "\n",
    "        # Convert input date and time to ephem format\n",
    "        observer.date = ephem.Date(date_time_input)\n",
    "\n",
    "        # Get Jupiter's coordinates\n",
    "        jupiter = ephem.Jupiter()\n",
    "        jupiter.compute(observer)\n",
    "\n",
    "        # Get Jupiter's altitude and azimuth\n",
    "        jupiter_alt = float(jupiter.alt) * 180 / ephem.pi  # Convert to degrees\n",
    "        jupiter_az = float(jupiter.az) * 180 / ephem.pi  # Convert to degrees\n",
    "\n",
    "        # Move telescope to track Jupiter's position\n",
    "        move_telescope(jupiter_alt, jupiter_az)\n",
    "\n",
    "        # Wait for some time before checking again\n",
    "        # Adjust the sleep time according to your needs\n",
    "        time.sleep(10)  # Check every 10 seconds\n",
    "\n",
    "if __name__ == \"__main__\":\n",
    "    track_jupiter()\n"
   ]
  },
  {
   "cell_type": "code",
   "execution_count": 33,
   "metadata": {},
   "outputs": [
    {
     "name": "stdout",
     "output_type": "stream",
     "text": [
      "Moving telescope to Alt: 85.22079074535495, Az: 338.8856313447005\n",
      "Moving telescope to Alt: 85.20627959173838, Az: 338.4544703806854\n"
     ]
    },
    {
     "ename": "KeyboardInterrupt",
     "evalue": "",
     "output_type": "error",
     "traceback": [
      "\u001b[0;31m---------------------------------------------------------------------------\u001b[0m",
      "\u001b[0;31mKeyboardInterrupt\u001b[0m                         Traceback (most recent call last)",
      "\u001b[1;32m/home/pavankumar/desktop/cephied/project.ipynb Cell 16\u001b[0m line \u001b[0;36m3\n\u001b[1;32m     <a href='vscode-notebook-cell:/home/pavankumar/desktop/cephied/project.ipynb#X21sZmlsZQ%3D%3D?line=33'>34</a>\u001b[0m         time\u001b[39m.\u001b[39msleep(\u001b[39m10\u001b[39m)  \u001b[39m# Check every 10 seconds\u001b[39;00m\n\u001b[1;32m     <a href='vscode-notebook-cell:/home/pavankumar/desktop/cephied/project.ipynb#X21sZmlsZQ%3D%3D?line=35'>36</a>\u001b[0m \u001b[39mif\u001b[39;00m \u001b[39m__name__\u001b[39m \u001b[39m==\u001b[39m \u001b[39m\"\u001b[39m\u001b[39m__main__\u001b[39m\u001b[39m\"\u001b[39m:\n\u001b[0;32m---> <a href='vscode-notebook-cell:/home/pavankumar/desktop/cephied/project.ipynb#X21sZmlsZQ%3D%3D?line=36'>37</a>\u001b[0m     track_saturn()\n",
      "\u001b[1;32m/home/pavankumar/desktop/cephied/project.ipynb Cell 16\u001b[0m line \u001b[0;36m3\n\u001b[1;32m     <a href='vscode-notebook-cell:/home/pavankumar/desktop/cephied/project.ipynb#X21sZmlsZQ%3D%3D?line=30'>31</a>\u001b[0m move_telescope(saturn_altaz\u001b[39m.\u001b[39malt\u001b[39m.\u001b[39mdeg, saturn_altaz\u001b[39m.\u001b[39maz\u001b[39m.\u001b[39mdeg)\n\u001b[1;32m     <a href='vscode-notebook-cell:/home/pavankumar/desktop/cephied/project.ipynb#X21sZmlsZQ%3D%3D?line=32'>33</a>\u001b[0m \u001b[39m# Wait for some time before checking again\u001b[39;00m\n\u001b[0;32m---> <a href='vscode-notebook-cell:/home/pavankumar/desktop/cephied/project.ipynb#X21sZmlsZQ%3D%3D?line=33'>34</a>\u001b[0m time\u001b[39m.\u001b[39;49msleep(\u001b[39m10\u001b[39;49m)\n",
      "\u001b[0;31mKeyboardInterrupt\u001b[0m: "
     ]
    }
   ],
   "source": [
    "import time\n",
    "from astropy.coordinates import SkyCoord, AltAz, EarthLocation\n",
    "from astropy.time import Time\n",
    "import astropy.units as u\n",
    "\n",
    "# Function to move the telescope to the specified Alt and Az\n",
    "def move_telescope(alt, az):\n",
    "    print(f\"Moving telescope to Alt: {alt}, Az: {az}\")\n",
    "\n",
    "# Function to track Saturn\n",
    "def track_saturn():\n",
    "    while True:\n",
    "        # Get current time\n",
    "        current_time = Time.now()\n",
    "\n",
    "        # Specify Saturn's coordinates manually (RA and Dec in degrees)\n",
    "        saturn_coords = SkyCoord(ra=83.6331*u.deg, dec=22.0145*u.deg, frame='icrs')  # RA and Dec for Saturn\n",
    "\n",
    "        # Specify your location (longitude and latitude in degrees)\n",
    "        longitude = 78.12170*u.deg\n",
    "        latitude = 17.582222*u.deg\n",
    "        height = 0*u.m  # Assuming sea level\n",
    "\n",
    "        # Create EarthLocation object for your location\n",
    "        your_location = EarthLocation.from_geodetic(longitude, latitude, height)\n",
    "\n",
    "        # Calculate AltAz coordinates for current time and your location\n",
    "        saturn_altaz = saturn_coords.transform_to(AltAz(obstime=current_time, location=your_location))\n",
    "\n",
    "        # Move telescope to track Saturn's position\n",
    "        move_telescope(saturn_altaz.alt.deg, saturn_altaz.az.deg)\n",
    "\n",
    "        # Wait for some time before checking again\n",
    "        time.sleep(10)  # Check every 10 seconds\n",
    "\n",
    "if __name__ == \"__main__\":\n",
    "    track_saturn()\n"
   ]
  },
  {
   "cell_type": "code",
   "execution_count": 34,
   "metadata": {},
   "outputs": [
    {
     "name": "stderr",
     "output_type": "stream",
     "text": [
      "WARNING: AstropyDeprecationWarning: The get_moon function is deprecated and may be removed in a future version.\n",
      "        Use get_body(\"moon\") instead. [warnings]\n"
     ]
    },
    {
     "name": "stdout",
     "output_type": "stream",
     "text": [
      "Moving telescope to Alt: 57.2153001054371, Az: 69.07753408850166\n",
      "Moving telescope to Alt: 57.25184080803606, Az: 69.06850622929448\n"
     ]
    },
    {
     "ename": "KeyboardInterrupt",
     "evalue": "",
     "output_type": "error",
     "traceback": [
      "\u001b[0;31m---------------------------------------------------------------------------\u001b[0m",
      "\u001b[0;31mKeyboardInterrupt\u001b[0m                         Traceback (most recent call last)",
      "\u001b[1;32m/home/pavankumar/desktop/cephied/project.ipynb Cell 17\u001b[0m line \u001b[0;36m3\n\u001b[1;32m     <a href='vscode-notebook-cell:/home/pavankumar/desktop/cephied/project.ipynb#X22sZmlsZQ%3D%3D?line=33'>34</a>\u001b[0m         time\u001b[39m.\u001b[39msleep(\u001b[39m10\u001b[39m)  \u001b[39m# Check every 10 seconds\u001b[39;00m\n\u001b[1;32m     <a href='vscode-notebook-cell:/home/pavankumar/desktop/cephied/project.ipynb#X22sZmlsZQ%3D%3D?line=35'>36</a>\u001b[0m \u001b[39mif\u001b[39;00m \u001b[39m__name__\u001b[39m \u001b[39m==\u001b[39m \u001b[39m\"\u001b[39m\u001b[39m__main__\u001b[39m\u001b[39m\"\u001b[39m:\n\u001b[0;32m---> <a href='vscode-notebook-cell:/home/pavankumar/desktop/cephied/project.ipynb#X22sZmlsZQ%3D%3D?line=36'>37</a>\u001b[0m     track_moon()\n",
      "\u001b[1;32m/home/pavankumar/desktop/cephied/project.ipynb Cell 17\u001b[0m line \u001b[0;36m3\n\u001b[1;32m     <a href='vscode-notebook-cell:/home/pavankumar/desktop/cephied/project.ipynb#X22sZmlsZQ%3D%3D?line=30'>31</a>\u001b[0m move_telescope(moon_altaz\u001b[39m.\u001b[39malt\u001b[39m.\u001b[39mdeg, moon_altaz\u001b[39m.\u001b[39maz\u001b[39m.\u001b[39mdeg)\n\u001b[1;32m     <a href='vscode-notebook-cell:/home/pavankumar/desktop/cephied/project.ipynb#X22sZmlsZQ%3D%3D?line=32'>33</a>\u001b[0m \u001b[39m# Wait for some time before checking again\u001b[39;00m\n\u001b[0;32m---> <a href='vscode-notebook-cell:/home/pavankumar/desktop/cephied/project.ipynb#X22sZmlsZQ%3D%3D?line=33'>34</a>\u001b[0m time\u001b[39m.\u001b[39;49msleep(\u001b[39m10\u001b[39;49m)\n",
      "\u001b[0;31mKeyboardInterrupt\u001b[0m: "
     ]
    }
   ],
   "source": [
    "import time\n",
    "from astropy.coordinates import get_moon, AltAz, EarthLocation\n",
    "from astropy.time import Time\n",
    "import astropy.units as u\n",
    "\n",
    "# Function to move the telescope to the specified Alt and Az\n",
    "def move_telescope(alt, az):\n",
    "    print(f\"Moving telescope to Alt: {alt}, Az: {az}\")\n",
    "\n",
    "# Function to track the Moon\n",
    "def track_moon():\n",
    "    while True:\n",
    "        # Get current time\n",
    "        current_time = Time.now()\n",
    "\n",
    "        # Get Moon's coordinates\n",
    "        moon_coords = get_moon(current_time)\n",
    "\n",
    "        # Specify your location (longitude and latitude in degrees)\n",
    "        longitude = 78.12170*u.deg\n",
    "        latitude = 17.582222*u.deg\n",
    "        height = 0*u.m  # Assuming sea level\n",
    "\n",
    "        # Create EarthLocation object for your location\n",
    "        your_location = EarthLocation.from_geodetic(longitude, latitude, height)\n",
    "\n",
    "        # Calculate AltAz coordinates for current time and your location\n",
    "        moon_altaz = moon_coords.transform_to(AltAz(obstime=current_time, location=your_location))\n",
    "\n",
    "        # Move telescope to track the Moon's position\n",
    "        move_telescope(moon_altaz.alt.deg, moon_altaz.az.deg)\n",
    "\n",
    "        # Wait for some time before checking again\n",
    "        time.sleep(10)  # Check every 10 seconds\n",
    "\n",
    "if __name__ == \"__main__\":\n",
    "    track_moon()\n"
   ]
  },
  {
   "cell_type": "code",
   "execution_count": 1,
   "metadata": {},
   "outputs": [],
   "source": []
  },
  {
   "cell_type": "code",
   "execution_count": 3,
   "metadata": {},
   "outputs": [
    {
     "ename": "ValueError",
     "evalue": "unknown SPICE target 'PLANET_NAME'",
     "output_type": "error",
     "traceback": [
      "\u001b[0;31m---------------------------------------------------------------------------\u001b[0m",
      "\u001b[0;31mValueError\u001b[0m                                Traceback (most recent call last)",
      "\u001b[1;32m/home/pavankumar/desktop/cephied/project.ipynb Cell 21\u001b[0m line \u001b[0;36m3\n\u001b[1;32m     <a href='vscode-notebook-cell:/home/pavankumar/desktop/cephied/project.ipynb#X25sZmlsZQ%3D%3D?line=30'>31</a>\u001b[0m \u001b[39mtry\u001b[39;00m:\n\u001b[1;32m     <a href='vscode-notebook-cell:/home/pavankumar/desktop/cephied/project.ipynb#X25sZmlsZQ%3D%3D?line=31'>32</a>\u001b[0m     \u001b[39mwhile\u001b[39;00m \u001b[39mTrue\u001b[39;00m:\n\u001b[1;32m     <a href='vscode-notebook-cell:/home/pavankumar/desktop/cephied/project.ipynb#X25sZmlsZQ%3D%3D?line=32'>33</a>\u001b[0m         \u001b[39m# Get current position of the planet\u001b[39;00m\n\u001b[0;32m---> <a href='vscode-notebook-cell:/home/pavankumar/desktop/cephied/project.ipynb#X25sZmlsZQ%3D%3D?line=33'>34</a>\u001b[0m         altitude, azimuth \u001b[39m=\u001b[39m get_planet_position(planet_name, observer_latitude, observer_longitude, ts\u001b[39m.\u001b[39;49mutc(now))\n\u001b[1;32m     <a href='vscode-notebook-cell:/home/pavankumar/desktop/cephied/project.ipynb#X25sZmlsZQ%3D%3D?line=35'>36</a>\u001b[0m         \u001b[39m# Output the current position\u001b[39;00m\n\u001b[1;32m     <a href='vscode-notebook-cell:/home/pavankumar/desktop/cephied/project.ipynb#X25sZmlsZQ%3D%3D?line=36'>37</a>\u001b[0m         \u001b[39mprint\u001b[39m(\u001b[39mf\u001b[39m\u001b[39m\"\u001b[39m\u001b[39mAltitude: \u001b[39m\u001b[39m{\u001b[39;00maltitude\u001b[39m}\u001b[39;00m\u001b[39m degrees, Azimuth: \u001b[39m\u001b[39m{\u001b[39;00mazimuth\u001b[39m}\u001b[39;00m\u001b[39m degrees\u001b[39m\u001b[39m\"\u001b[39m)\n",
      "\u001b[1;32m/home/pavankumar/desktop/cephied/project.ipynb Cell 21\u001b[0m line \u001b[0;36m5\n\u001b[1;32m      <a href='vscode-notebook-cell:/home/pavankumar/desktop/cephied/project.ipynb#X25sZmlsZQ%3D%3D?line=2'>3</a>\u001b[0m \u001b[39mglobal\u001b[39;00m planet\n\u001b[1;32m      <a href='vscode-notebook-cell:/home/pavankumar/desktop/cephied/project.ipynb#X25sZmlsZQ%3D%3D?line=3'>4</a>\u001b[0m planets \u001b[39m=\u001b[39m load(\u001b[39m'\u001b[39m\u001b[39mde421.bsp\u001b[39m\u001b[39m'\u001b[39m)\n\u001b[0;32m----> <a href='vscode-notebook-cell:/home/pavankumar/desktop/cephied/project.ipynb#X25sZmlsZQ%3D%3D?line=4'>5</a>\u001b[0m earth, planet \u001b[39m=\u001b[39m planets[\u001b[39m'\u001b[39m\u001b[39mearth\u001b[39m\u001b[39m'\u001b[39m], planets[\u001b[39m'\u001b[39;49m\u001b[39mplanet_name\u001b[39;49m\u001b[39m'\u001b[39;49m]\n\u001b[1;32m      <a href='vscode-notebook-cell:/home/pavankumar/desktop/cephied/project.ipynb#X25sZmlsZQ%3D%3D?line=6'>7</a>\u001b[0m \u001b[39m# Set observer's location\u001b[39;00m\n\u001b[1;32m      <a href='vscode-notebook-cell:/home/pavankumar/desktop/cephied/project.ipynb#X25sZmlsZQ%3D%3D?line=7'>8</a>\u001b[0m observer \u001b[39m=\u001b[39m earth \u001b[39m+\u001b[39m Topos(latitude_degrees\u001b[39m=\u001b[39mobserver_latitude, longitude_degrees\u001b[39m=\u001b[39mobserver_longitude)\n",
      "File \u001b[0;32m~/.local/lib/python3.10/site-packages/skyfield/jpllib.py:172\u001b[0m, in \u001b[0;36mSpiceKernel.__getitem__\u001b[0;34m(self, target)\u001b[0m\n\u001b[1;32m    170\u001b[0m \u001b[39mdef\u001b[39;00m \u001b[39m__getitem__\u001b[39m(\u001b[39mself\u001b[39m, target):\n\u001b[1;32m    171\u001b[0m \u001b[39m    \u001b[39m\u001b[39m\"\"\"Return a vector function for computing the location of `target`.\"\"\"\u001b[39;00m\n\u001b[0;32m--> 172\u001b[0m     target \u001b[39m=\u001b[39m \u001b[39mself\u001b[39;49m\u001b[39m.\u001b[39;49mdecode(target)\n\u001b[1;32m    173\u001b[0m     segments \u001b[39m=\u001b[39m \u001b[39mself\u001b[39m\u001b[39m.\u001b[39msegments\n\u001b[1;32m    174\u001b[0m     segment_dict \u001b[39m=\u001b[39m \u001b[39mdict\u001b[39m((segment\u001b[39m.\u001b[39mtarget, segment) \u001b[39mfor\u001b[39;00m segment \u001b[39min\u001b[39;00m segments)\n",
      "File \u001b[0;32m~/.local/lib/python3.10/site-packages/skyfield/jpllib.py:162\u001b[0m, in \u001b[0;36mSpiceKernel.decode\u001b[0;34m(self, name)\u001b[0m\n\u001b[1;32m    160\u001b[0m     code \u001b[39m=\u001b[39m _jpl_name_code_dict\u001b[39m.\u001b[39mget(name)\n\u001b[1;32m    161\u001b[0m     \u001b[39mif\u001b[39;00m code \u001b[39mis\u001b[39;00m \u001b[39mNone\u001b[39;00m:\n\u001b[0;32m--> 162\u001b[0m         \u001b[39mraise\u001b[39;00m \u001b[39mValueError\u001b[39;00m(\u001b[39m'\u001b[39m\u001b[39munknown SPICE target \u001b[39m\u001b[39m{0!r}\u001b[39;00m\u001b[39m'\u001b[39m\u001b[39m.\u001b[39mformat(name))\n\u001b[1;32m    163\u001b[0m \u001b[39mif\u001b[39;00m code \u001b[39mnot\u001b[39;00m \u001b[39min\u001b[39;00m \u001b[39mself\u001b[39m\u001b[39m.\u001b[39mcodes:\n\u001b[1;32m    164\u001b[0m     targets \u001b[39m=\u001b[39m \u001b[39m'\u001b[39m\u001b[39m, \u001b[39m\u001b[39m'\u001b[39m\u001b[39m.\u001b[39mjoin(_format_code_and_name(c) \u001b[39mfor\u001b[39;00m c \u001b[39min\u001b[39;00m \u001b[39mself\u001b[39m\u001b[39m.\u001b[39mcodes)\n",
      "\u001b[0;31mValueError\u001b[0m: unknown SPICE target 'PLANET_NAME'"
     ]
    }
   ],
   "source": [
    "\n",
    "lat = 17.38\n",
    "long = 78.48\n",
    "from skyfield.api import Topos, load\n",
    "from datetime import datetime\n",
    "import pytz\n",
    "import time\n",
    "def get_planet_position(planet_name, observer_latitude, observer_longitude, t):\n",
    "    # Load the ephemeris\n",
    "    global planet\n",
    "    planets = load('de421.bsp')\n",
    "    earth, planet = planets['earth'], planets['planet_name']\n",
    "\n",
    "    # Set observer's location\n",
    "    observer = earth + Topos(latitude_degrees=observer_latitude, longitude_degrees=observer_longitude)\n",
    "\n",
    "    # Compute position\n",
    "    astrometric = observer.at(t).observe(_)\n",
    "    alt, az, _ = astrometric.apparent().altaz()\n",
    "\n",
    "    # Return altitude and azimuth\n",
    "    return alt.degrees, az.degrees\n",
    "\n",
    "# Example observer's location (replace with your actual coordinates)\n",
    "observer_latitude = lat  # Latitude of New Delhi\n",
    "observer_longitude = long  # Longitude of New Delhi\n",
    "\n",
    "# Example planet to track\n",
    "planet_name = \"mars\"\n",
    "\n",
    "# Get current time in IST\n",
    "ist = pytz.timezone('Asia/Kolkata')\n",
    "now = datetime.now(ist)\n",
    "\n",
    "# Create a Time object using Skyfield's timescale\n",
    "ts = load.timescale()\n",
    "\n",
    "try:\n",
    "    while True:\n",
    "        # Get current position of the planet\n",
    "        altitude, azimuth = get_planet_position(planet_name, observer_latitude, observer_longitude, ts.utc(now))\n",
    "\n",
    "        # Output the current position\n",
    "        print(f\"Altitude: {altitude} degrees, Azimuth: {azimuth} degrees\")\n",
    "\n",
    "        # Update every 1 second\n",
    "        time.sleep(1)\n",
    "\n",
    "except KeyboardInterrupt:\n",
    "    print(\"Tracking stopped.\")"
   ]
  },
  {
   "cell_type": "code",
   "execution_count": null,
   "metadata": {},
   "outputs": [],
   "source": []
  },
  {
   "cell_type": "markdown",
   "metadata": {},
   "source": [
    "sun\n",
    "   \"mercury barycenter\",\n",
    "    \"venus barycenter\",\n",
    "    \"earth barycenter\",\n",
    "    \"mars barycenter\",\n",
    "    \"jupiter barycenter\",\n",
    "    \"saturn barycenter\",\n",
    "    \"uranus barycenter\",\n",
    "    \"neptune barycenter\"\n"
   ]
  },
  {
   "cell_type": "code",
   "execution_count": 1,
   "metadata": {},
   "outputs": [
    {
     "name": "stdout",
     "output_type": "stream",
     "text": [
      "Altitude: -42.35380462495905 degrees, Azimuth: 111.84756927565284 degrees\n",
      "Altitude: -42.35380462495905 degrees, Azimuth: 111.84756927565284 degrees\n",
      "Altitude: -42.35380462495905 degrees, Azimuth: 111.84756927565284 degrees\n",
      "Altitude: -42.35380462495905 degrees, Azimuth: 111.84756927565284 degrees\n",
      "Altitude: -42.35380462495905 degrees, Azimuth: 111.84756927565284 degrees\n",
      "Altitude: -42.35380462495905 degrees, Azimuth: 111.84756927565284 degrees\n",
      "Altitude: -42.35380462495905 degrees, Azimuth: 111.84756927565284 degrees\n",
      "Altitude: -42.35380462495905 degrees, Azimuth: 111.84756927565284 degrees\n",
      "Altitude: -42.35380462495905 degrees, Azimuth: 111.84756927565284 degrees\n",
      "Altitude: -42.35380462495905 degrees, Azimuth: 111.84756927565284 degrees\n",
      "Altitude: -42.35380462495905 degrees, Azimuth: 111.84756927565284 degrees\n",
      "Altitude: -42.35380462495905 degrees, Azimuth: 111.84756927565284 degrees\n",
      "Altitude: -42.35380462495905 degrees, Azimuth: 111.84756927565284 degrees\n",
      "Altitude: -42.35380462495905 degrees, Azimuth: 111.84756927565284 degrees\n",
      "Altitude: -42.35380462495905 degrees, Azimuth: 111.84756927565284 degrees\n",
      "Altitude: -42.35380462495905 degrees, Azimuth: 111.84756927565284 degrees\n",
      "Altitude: -42.35380462495905 degrees, Azimuth: 111.84756927565284 degrees\n",
      "Altitude: -42.35380462495905 degrees, Azimuth: 111.84756927565284 degrees\n",
      "Altitude: -42.35380462495905 degrees, Azimuth: 111.84756927565284 degrees\n",
      "Altitude: -42.35380462495905 degrees, Azimuth: 111.84756927565284 degrees\n",
      "Altitude: -42.35380462495905 degrees, Azimuth: 111.84756927565284 degrees\n",
      "Altitude: -42.35380462495905 degrees, Azimuth: 111.84756927565284 degrees\n",
      "Altitude: -42.35380462495905 degrees, Azimuth: 111.84756927565284 degrees\n",
      "Altitude: -42.35380462495905 degrees, Azimuth: 111.84756927565284 degrees\n",
      "Altitude: -42.35380462495905 degrees, Azimuth: 111.84756927565284 degrees\n",
      "Altitude: -42.35380462495905 degrees, Azimuth: 111.84756927565284 degrees\n",
      "Altitude: -42.35380462495905 degrees, Azimuth: 111.84756927565284 degrees\n",
      "Altitude: -42.35380462495905 degrees, Azimuth: 111.84756927565284 degrees\n",
      "Altitude: -42.35380462495905 degrees, Azimuth: 111.84756927565284 degrees\n",
      "Altitude: -42.35380462495905 degrees, Azimuth: 111.84756927565284 degrees\n",
      "Altitude: -42.35380462495905 degrees, Azimuth: 111.84756927565284 degrees\n",
      "Altitude: -42.35380462495905 degrees, Azimuth: 111.84756927565284 degrees\n",
      "Altitude: -42.35380462495905 degrees, Azimuth: 111.84756927565284 degrees\n",
      "Altitude: -42.35380462495905 degrees, Azimuth: 111.84756927565284 degrees\n",
      "Altitude: -42.35380462495905 degrees, Azimuth: 111.84756927565284 degrees\n",
      "Altitude: -42.35380462495905 degrees, Azimuth: 111.84756927565284 degrees\n",
      "Altitude: -42.35380462495905 degrees, Azimuth: 111.84756927565284 degrees\n",
      "Altitude: -42.35380462495905 degrees, Azimuth: 111.84756927565284 degrees\n",
      "Altitude: -42.35380462495905 degrees, Azimuth: 111.84756927565284 degrees\n",
      "Altitude: -42.35380462495905 degrees, Azimuth: 111.84756927565284 degrees\n",
      "Altitude: -42.35380462495905 degrees, Azimuth: 111.84756927565284 degrees\n",
      "Altitude: -42.35380462495905 degrees, Azimuth: 111.84756927565284 degrees\n",
      "Altitude: -42.35380462495905 degrees, Azimuth: 111.84756927565284 degrees\n",
      "Altitude: -42.35380462495905 degrees, Azimuth: 111.84756927565284 degrees\n",
      "Altitude: -42.35380462495905 degrees, Azimuth: 111.84756927565284 degrees\n",
      "Altitude: -42.35380462495905 degrees, Azimuth: 111.84756927565284 degrees\n",
      "Altitude: -42.35380462495905 degrees, Azimuth: 111.84756927565284 degrees\n",
      "Altitude: -42.35380462495905 degrees, Azimuth: 111.84756927565284 degrees\n",
      "Altitude: -42.35380462495905 degrees, Azimuth: 111.84756927565284 degrees\n",
      "Altitude: -42.35380462495905 degrees, Azimuth: 111.84756927565284 degrees\n",
      "Altitude: -42.35380462495905 degrees, Azimuth: 111.84756927565284 degrees\n",
      "Altitude: -42.35380462495905 degrees, Azimuth: 111.84756927565284 degrees\n",
      "Altitude: -42.35380462495905 degrees, Azimuth: 111.84756927565284 degrees\n",
      "Altitude: -42.35380462495905 degrees, Azimuth: 111.84756927565284 degrees\n",
      "Altitude: -42.35380462495905 degrees, Azimuth: 111.84756927565284 degrees\n",
      "Altitude: -42.35380462495905 degrees, Azimuth: 111.84756927565284 degrees\n",
      "Altitude: -42.35380462495905 degrees, Azimuth: 111.84756927565284 degrees\n",
      "Altitude: -42.35380462495905 degrees, Azimuth: 111.84756927565284 degrees\n",
      "Altitude: -42.35380462495905 degrees, Azimuth: 111.84756927565284 degrees\n",
      "Altitude: -42.35380462495905 degrees, Azimuth: 111.84756927565284 degrees\n",
      "Altitude: -42.35380462495905 degrees, Azimuth: 111.84756927565284 degrees\n",
      "Altitude: -42.35380462495905 degrees, Azimuth: 111.84756927565284 degrees\n",
      "Altitude: -42.35380462495905 degrees, Azimuth: 111.84756927565284 degrees\n",
      "Tracking stopped.\n"
     ]
    }
   ],
   "source": [
    "lat = 17.38\n",
    "long = 78.48\n",
    "\n",
    "planet_name = \"moon\"\n",
    "\n",
    "from skyfield.api import Topos, load\n",
    "from datetime import datetime\n",
    "import pytz\n",
    "import time\n",
    "\n",
    "def get_planet_position(planet_name, observer_latitude, observer_longitude, t):\n",
    "    # Load the ephemeris\n",
    "    planets = load('de421.bsp')\n",
    "    earth, planet = planets['earth'], planets[planet_name]  # Fixed this line\n",
    "\n",
    "    # Set observer's location\n",
    "    observer = earth + Topos(latitude_degrees=observer_latitude, longitude_degrees=observer_longitude)\n",
    "\n",
    "    # Compute position\n",
    "    astrometric = observer.at(t).observe(planet)  # Fixed this line\n",
    "    alt, az, _ = astrometric.apparent().altaz()\n",
    "\n",
    "    # Return altitude and azimuth\n",
    "    return alt.degrees, az.degrees\n",
    "\n",
    "# Example observer's location (replace with your actual coordinates)\n",
    "observer_latitude = lat  # Latitude of New Delhi\n",
    "observer_longitude = long  # Longitude of New Delhi\n",
    "\n",
    "# Example planet to track\n",
    "\n",
    "\n",
    "# Get current time in IST\n",
    "ist = pytz.timezone('Asia/Kolkata')\n",
    "now = datetime.now(ist)\n",
    "\n",
    "# Create a Time object using Skyfield's timescale\n",
    "ts = load.timescale()\n",
    "\n",
    "try:\n",
    "    while True:\n",
    "        # Get current position of the planet\n",
    "        altitude, azimuth = get_planet_position(planet_name, observer_latitude, observer_longitude, ts.utc(now))\n",
    "\n",
    "        # Output the current position\n",
    "        print(f\"Altitude: {altitude} degrees, Azimuth: {azimuth} degrees\")\n",
    "\n",
    "        # Update every 1 second\n",
    "        time.sleep(1)\n",
    "\n",
    "except KeyboardInterrupt:\n",
    "    print(\"Tracking stopped.\")\n"
   ]
  },
  {
   "cell_type": "code",
   "execution_count": 7,
   "metadata": {},
   "outputs": [
    {
     "name": "stdout",
     "output_type": "stream",
     "text": [
      "Available planets:\n"
     ]
    }
   ],
   "source": [
    "from skyfield.api import load\n",
    "\n",
    "# Load the ephemeris\n",
    "planets = load('de421.bsp')\n",
    "\n",
    "# Print names of all available planets\n",
    "print(\"Available planets:\")\n",
    "for planet_name in planets:\n",
    "    print(planet_name)\n"
   ]
  },
  {
   "cell_type": "code",
   "execution_count": 12,
   "metadata": {},
   "outputs": [
    {
     "name": "stdout",
     "output_type": "stream",
     "text": [
      "Available planets:\n"
     ]
    },
    {
     "ename": "TypeError",
     "evalue": "'method' object is not iterable",
     "output_type": "error",
     "traceback": [
      "\u001b[0;31m---------------------------------------------------------------------------\u001b[0m",
      "\u001b[0;31mTypeError\u001b[0m                                 Traceback (most recent call last)",
      "\u001b[1;32m/home/pavankumar/desktop/cephied/project.ipynb Cell 25\u001b[0m line \u001b[0;36m1\n\u001b[1;32m      <a href='vscode-notebook-cell:/home/pavankumar/desktop/cephied/project.ipynb#X33sZmlsZQ%3D%3D?line=8'>9</a>\u001b[0m \u001b[39m# Print names of all available planets\u001b[39;00m\n\u001b[1;32m     <a href='vscode-notebook-cell:/home/pavankumar/desktop/cephied/project.ipynb#X33sZmlsZQ%3D%3D?line=9'>10</a>\u001b[0m \u001b[39mprint\u001b[39m(\u001b[39m\"\u001b[39m\u001b[39mAvailable planets:\u001b[39m\u001b[39m\"\u001b[39m)\n\u001b[0;32m---> <a href='vscode-notebook-cell:/home/pavankumar/desktop/cephied/project.ipynb#X33sZmlsZQ%3D%3D?line=10'>11</a>\u001b[0m \u001b[39mfor\u001b[39;00m planet_name \u001b[39min\u001b[39;00m planet_names:\n\u001b[1;32m     <a href='vscode-notebook-cell:/home/pavankumar/desktop/cephied/project.ipynb#X33sZmlsZQ%3D%3D?line=11'>12</a>\u001b[0m     \u001b[39mprint\u001b[39m(planet_name)\n",
      "\u001b[0;31mTypeError\u001b[0m: 'method' object is not iterable"
     ]
    }
   ],
   "source": [
    "from skyfield.api import load\n",
    "\n",
    "# Load the ephemeris\n",
    "planets = load('de421.bsp')\n",
    "\n",
    "# Get a list of all available planet names\n",
    "planet_names = planets.names\n",
    "\n",
    "# Print names of all available planets\n",
    "print(\"Available planets:\")\n",
    "for planet_name in planet_names:\n",
    "    print(planet_name)\n"
   ]
  },
  {
   "cell_type": "code",
   "execution_count": null,
   "metadata": {},
   "outputs": [
    {
     "ename": "",
     "evalue": "",
     "output_type": "error",
     "traceback": [
      "\u001b[1;31mThe kernel failed to start due to the missing module 'prompt_toolkit.formatted_text'. Consider installing this module.\n",
      "\u001b[1;31mClick <a href='https://aka.ms/kernelFailuresMissingModule'>here</a> for more info."
     ]
    }
   ],
   "source": []
  },
  {
   "cell_type": "code",
   "execution_count": null,
   "metadata": {},
   "outputs": [],
   "source": []
  }
 ],
 "metadata": {
  "kernelspec": {
   "display_name": "Python 3",
   "language": "python",
   "name": "python3"
  },
  "language_info": {
   "codemirror_mode": {
    "name": "ipython",
    "version": 3
   },
   "file_extension": ".py",
   "mimetype": "text/x-python",
   "name": "python",
   "nbconvert_exporter": "python",
   "pygments_lexer": "ipython3",
   "version": "3.10.12"
  }
 },
 "nbformat": 4,
 "nbformat_minor": 2
}
